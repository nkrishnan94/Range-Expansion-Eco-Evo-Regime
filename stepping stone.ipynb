{
 "cells": [
  {
   "cell_type": "code",
   "execution_count": 1,
   "metadata": {},
   "outputs": [],
   "source": [
    "\n"
   ]
  },
  {
   "cell_type": "code",
   "execution_count": 31,
   "metadata": {},
   "outputs": [],
   "source": [
    "import numpy as np\n",
    "from numpy.random import choice\n",
    "import random\n",
    "import matplotlib.pyplot as plt\n",
    "from scipy.integrate import odeint \n",
    "from numba import jit,njit\n",
    "##standing wave solution of Fisher wave\n",
    "\n",
    "@njit\n",
    "def fit_dist(r,alpha,dist_key):\n",
    "    dist_dict = {'exponential':np.random.exponential,\n",
    "                 'gamma':np.random.gamma,\n",
    "                 'normal':np.random.normal}\n",
    "    func = dist_dict[dist_key]\n",
    "    if func ==np.random.normal:\n",
    "        s_bar  = r*func(alpha,.01)\n",
    "    else:\n",
    "        s_bar  = r*func(alpha)\n",
    "    return s_bar\n",
    "\n",
    "def standing_wave(y0,x,D,rw):\n",
    "    w = y0[0]      ##initial value for wave profile at x =0, i.e. w(x=0)\n",
    "    z = y0[1]      ##initial value for rate of change of profile w.r.t. position x , at x=0 i.e. dw/dx(x=0)\n",
    "    dwdx = z\n",
    "    dzdx =(-2*((rw*D)**.5)*dwdx -w*rw*(1-w))/D ## fisher equation in comoving frame\n",
    "    \n",
    "    return [dwdx,dzdx]\n",
    "\n",
    "\n",
    "def initialize(K,n_allele,mu):\n",
    "    ## generate standing wave\n",
    "    stand = odeint(standing_wave,[1,-(2*2**.5)/K],np.arange(70),args=(2*2**.5,1))[:,0]\n",
    "    \n",
    "    ## cuttoff non integer cell density based off of carry capacity K\n",
    "    w_0 = (K*stand).astype(int)\n",
    "    w_0 = w_0[w_0>1]\n",
    "    \n",
    "    ## subtract wild type cells from carrying capacity to get 'emopty' particle count\n",
    "    L = np.vstack(((K-w_0),w_0)).T\n",
    "    L = np.append(L,np.zeros((len(w_0),n_allele-1)),axis=1)\n",
    "\n",
    "    ##array strucutre of an empty deme to be added on as needed \n",
    "    L_empty= np.append([K],np.zeros(n_allele,dtype=int))\n",
    "\n",
    "    ## add on some number of empty demes\n",
    "    for i in range(500):\n",
    "        L= np.append(L,[L_empty],axis=0)\n",
    "        \n",
    "    return L.astype(int), L_empty\n",
    "\n",
    "\n",
    "\n",
    "## given  ab array with counts and an array withprobabilities return index from first array\n",
    "# faster than np.random.choice for smallish arrays\n",
    "@njit\n",
    "def choice(options,probs):\n",
    "    x = np.random.rand()\n",
    "    cum = 0\n",
    "    for i,p in enumerate(probs):\n",
    "        cum += p\n",
    "        ##sum of probability must be 1\n",
    "        if x < cum:\n",
    "            break\n",
    "    return options[i]\n",
    "\n",
    "\n",
    "@njit\n",
    "def run_stepping_stone(n_gen,## nunmber of gnerations\n",
    "                K, ## population size\n",
    "                r,\n",
    "                alpha,## fitness landscape (Growthrates of each genotype (should be <<1))\n",
    "                mu,\n",
    "                L_init,\n",
    "                L_history):  ## mutation rate\n",
    "    \n",
    "\n",
    "    ##initialize probability matrix\n",
    "    #L = L_init\n",
    "    L_empty = L_init[-1]\n",
    "    L=L_init\n",
    "    g_rates = np.array([0,r])\n",
    "    n_allele = len(g_rates-1)\n",
    "    P = np.ones((n_allele+1,n_allele+1))\n",
    "    P[0,:] = 1 - g_rates\n",
    "    \n",
    "    ## list of allele number - pre-established so array doesnt have to be regenerated\n",
    "    alleles = np.arange(n_allele+1)\n",
    "    \n",
    "    #slots for picked alleles each iteration to be stored, so array doesnt havent to be regerated each time\n",
    "    picks = np.array([0,0,0,0,0])\n",
    "    \n",
    "    #sstore trace history\n",
    "    #L_history= np.expand_dims(L,0)\n",
    "\n",
    "    #for i in range(n_gen-1):\n",
    "    #    L_history = np.concatenate((L_history, np.expand_dims(np.zeros(L.shape),0)))\n",
    "\n",
    "        \n",
    "    for t in range(n_gen):\n",
    "        for dt in range(K):\n",
    "            \n",
    "            #number of demes with a non empty particle (+2)\n",
    "            n_demes = np.where(L[:,0]!=K)[0][-1] +2\n",
    "\n",
    "            #pick adjacent demes tobe swapped, pick demes for duplication and mutation\n",
    "            ind_1 = np.random.randint(0, n_demes)\n",
    "            if (np.random.random() < .5 and ind_1 != 0) or ind_1 == n_demes - 1:\n",
    "                ind_2 = ind_1 - 1\n",
    "            else:\n",
    "                ind_2 = ind_1 + 1\n",
    "            neighb = np.array([ind_1, ind_2])\n",
    "            dup_deme, mut_deme = np.random.randint(0,n_demes,2)\n",
    "\n",
    "\n",
    "            #dmigration: pick two cells from each of the selected demes, and swap them\n",
    "            for i in range(2):\n",
    "                picks[i] = choice(alleles, L[neighb][i]/K)\n",
    "                \n",
    "            for inds in [[0,1],[1,0]]:\n",
    "                L[neighb[inds[0]],picks[inds[0]]] -= 1\n",
    "                L[neighb[inds[0]],picks[inds[1]]] += 1\n",
    "\n",
    "\n",
    "            #duplication: pick two cells from the selected deme and echange first with copy of second according to\n",
    "            #3 probability matrix\n",
    "            for i in range(2,4):\n",
    "                picks[i] = choice(alleles,L[dup_deme]/K)\n",
    "\n",
    "            if P[picks[2],picks[3]] > np.random.random():\n",
    "                L[dup_deme,picks[2]] += 1\n",
    "                L[dup_deme,picks[3]] -= 1\n",
    "\n",
    "\n",
    "            ##mutation\n",
    "            mut_deme = np.random.randint(n_demes)\n",
    "            picks[4] = choice(alleles,L[mut_deme]/K)\n",
    "            #picks.append(choice(alleles,L[mut_deme]/K))\n",
    "            if mu>np.random.random():\n",
    "                #3 only particles that are not empty spaces and are not the 'peak' in the landscape strucutre can mutate\n",
    "                if picks[4] != n_allele and picks[4] != 0:\n",
    "                    ## mutate cell and fromat in terms of cell counts i.e. [empty cell count,...,chosen cell count]\n",
    "\n",
    "                    ##remove original cell and add mutated cell to cell counts\n",
    "                    s_new = np.random.normal(r*alpha,.001)\n",
    "                    L[mut_deme,picks[4]] -=1\n",
    "                    L[mut_deme,picks[4]+1] +=1\n",
    "                    g_rates = np.sort(np.append(g_rates,[cell_types[pick_ind]]))\n",
    "                    s_pos = np.where(g_rates==s_new)[0][0]\n",
    "            if len(g_rates) != len(L[0]):\n",
    "                for i in range(len(g_rates)-len(L[0])):\n",
    "                    L = np.append(np.append(L[:,:(s_pos)],\n",
    "                                            np.vstack(np.zeros(len(L))),axis=1),L[:,(s_pos):],axis=1)    \n",
    "                n_allele = len(g_rates-1)\n",
    "                P = np.ones((n_allele+1,n_allele+1))\n",
    "                P[0,:] = 1 - g_rates\n",
    "                    \n",
    "            ##track how many demes are to be omitted\n",
    "            shift = 0\n",
    "            while L[0,0]<int(.02*K):\n",
    "                L=L[1:,:]\n",
    "                shift+=1\n",
    "            #if L[0,0]<int(.02*K):\n",
    "            #    shift = np.where(L[:,0]<int(.02*K))[-1][0]\n",
    "            #    L = L[shift:,:]\n",
    "            for i in range(shift):\n",
    "                L=np.append(L,np.expand_dims(L_empty,0),axis=0)\n",
    "\n",
    "\n",
    "        #L_history = np.concatenate((L_history, np.expand_dims(L,0)),axis=0)\n",
    "        L_history[t] = L\n",
    "    return L_history,g_rates\n",
    "\n",
    "\n",
    "## run simulation until a fixation event occurs (fixation to some threshold 'thresh')\n",
    "\n",
    "\n",
    "@njit\n",
    "def fix_time_spatial(K, ## population size\n",
    "                     landscape, ## fitness landscape (Growthrates of each genotype (should be <<1))\n",
    "                     mu,\n",
    "                     L_init,\n",
    "                     thresh):\n",
    "     ## number of alleles in system (based of off provided landscape)\n",
    "    n_allele = len(landscape)\n",
    "\n",
    "    ##initialize probability matrix\n",
    "    #L = L_init\n",
    "    L_empty = L_init[-1]\n",
    "    L=L_init\n",
    "    P = np.ones((n_allele+1,n_allele+1))\n",
    "    P[0,1:] = 1 - landscape\n",
    "    \n",
    "    ## list of allele number - pre-established so array doesnt have to be regenerated\n",
    "    alleles = np.arange(n_allele+1)\n",
    "    \n",
    "    #slots for picked alleles each iteration to be stored, so array doesnt havent to be regerated each time\n",
    "    picks = np.array([0,0,0,0,0])\n",
    "    \n",
    "\n",
    "\n",
    "        \n",
    "    fixed=False\n",
    "    muts_check = False\n",
    "    del_check =False\n",
    "    del_fix = False\n",
    "    arise_time =0 \n",
    "    t = 0\n",
    "    init_pop = np.sum(L)\n",
    "    while not fixed:\n",
    "            \n",
    "        #number of demes with a non empty particle (+2)\n",
    "        n_demes = np.where(L[:,0]!=K)[0][-1] +2\n",
    "\n",
    "        #pick adjacent demes tobe swapped, pick demes for duplication and mutation\n",
    "        ind_1 = np.random.randint(0, n_demes)\n",
    "        if (np.random.random() < .5 and ind_1 != 0) or ind_1 == n_demes - 1:\n",
    "            ind_2 = ind_1 - 1\n",
    "        else:\n",
    "            ind_2 = ind_1 + 1\n",
    "        neighb = np.array([ind_1, ind_2])\n",
    "        dup_deme, mut_deme = np.random.randint(0,n_demes,2)\n",
    "\n",
    "\n",
    "        #dmigration: pick two cells from each of the selected demes, and swap them\n",
    "        for i in range(2):\n",
    "            picks[i] = choice(alleles, L[neighb][i]/K)\n",
    "\n",
    "        for inds in [[0,1],[1,0]]:\n",
    "            L[neighb[inds[0]],picks[inds[0]]] -= 1\n",
    "            L[neighb[inds[0]],picks[inds[1]]] += 1\n",
    "\n",
    "\n",
    "        #duplication: pick two cells from the selected deme and echange first with copy of second according to\n",
    "        #3 probability matrix\n",
    "        for i in range(2,4):\n",
    "            picks[i] = choice(alleles,L[dup_deme]/K)\n",
    "\n",
    "        if P[picks[2],picks[3]] > np.random.random():\n",
    "            L[dup_deme,picks[2]] += 1\n",
    "            L[dup_deme,picks[3]] -= 1\n",
    "\n",
    "\n",
    "        ##mutation\n",
    "        mut_deme = np.random.randint(n_demes)\n",
    "        picks[4] = choice(alleles,L[mut_deme]/K)\n",
    "        #picks.append(choice(alleles,L[mut_deme]/K))\n",
    "        if mu>np.random.random():\n",
    "            #3 only particles that are not empty spaces and are not the 'peak' in the landscape strucutre can mutate\n",
    "            if picks[4] != n_allele and picks[4] != 0:\n",
    "                ## mutate cell and fromat in terms of cell counts i.e. [empty cell count,...,chosen cell count]\n",
    "\n",
    "                ##remove original cell and add mutated cell to cell counts\n",
    "                L[mut_deme,picks[4]] -=1\n",
    "                L[mut_deme,picks[4]+1] +=1\n",
    "        ##track how many demes are to be omitted\n",
    "        shift = 0\n",
    "        while L[0,0]<int(.02*K):\n",
    "            L=L[1:,:]\n",
    "            shift+=1\n",
    "        #if L[0,0]<int(.02*K):\n",
    "        #    shift = np.where(L[:,0]<int(.02*K))[-1][0]\n",
    "        #    L = L[shift:,:]\n",
    "        for i in range(shift):\n",
    "            L=np.append(L,np.expand_dims(L_empty,0),axis=0)\n",
    "\n",
    "        if np.any(L[:,-2])==K and not del_check:\n",
    "            del_fix = True\n",
    "            del_check=True\n",
    "            \n",
    "            \n",
    "            \n",
    "            \n",
    "            \n",
    "        ##check if beneficial mutant has arised, if it previously didnt exicst  \n",
    "        if (np.sum(L[:,-1]) !=0) ==True and not muts_check:\n",
    "            ## record time\n",
    "            arise_time = t\n",
    "            muts_check =True\n",
    "        if muts_check and not (np.sum(L[:,-1]) !=0):\n",
    "            mut_check = False\n",
    "            arise_time = 0\n",
    "        ## check if fixed\n",
    "        fixed = np.sum(L[:,1:n_allele])<(thresh*init_pop)\n",
    "        t+=1\n",
    "\n",
    "\n",
    "    return L, arise_time,t, del_fix\n",
    "\n",
    "\n",
    "\n",
    "\n",
    "#Run the automaton\n",
    "#Implements cell division. The division rates are based on the experimental data\n",
    "\n",
    "@njit\n",
    "def run_mixed(n_gen,## nunmber of gnerations\n",
    "              K, ## population size\n",
    "              landscape, ## fitness landscape (Growthrates of each genotype (should be <<1))\n",
    "              mu,\n",
    "              L_init):  ## mutation rate\n",
    "    \n",
    "    ## number of alleles in system (based of off provided landscape)\n",
    "    n_allele = len(landscape)\n",
    "\n",
    "    ##initialize probability matrix\n",
    "    L = L_init\n",
    "    #L=np.zeros(n_allele+1)\n",
    "    #L[0] = K\n",
    "    P = np.ones((n_allele+1,n_allele+1))\n",
    "    P[0,1:] = 1 - landscape\n",
    "    \n",
    "    ## list of allele number - pre-established so array doesnt have to be regenerated\n",
    "    alleles = np.arange(n_allele+1)\n",
    "    \n",
    "    #slots for picked alleles each iteration to be stored, so array doesnt havent to be regerated each time\n",
    "    picks = np.array([0,0,0])\n",
    "    L_history= np.zeros((n_gen,n_allele+1))\n",
    "\n",
    "    L_history[0] = L\n",
    "    for t in range(n_gen):\n",
    "        for dt in range(K):\n",
    "            \n",
    "\n",
    "\n",
    "\n",
    "            #duplication: pick two cells from the selected deme and echange first with copy of second according to\n",
    "            #3 probability matrix\n",
    "            for i in range(2):\n",
    "                picks[i] = choice(alleles,L/K)\n",
    "\n",
    "            if P[picks[0],picks[1]] > np.random.random():\n",
    "                L[picks[0]] += 1\n",
    "                L[picks[1]] -= 1\n",
    "\n",
    "\n",
    "            ##mutation\n",
    "\n",
    "            picks[2] = choice(alleles,L/K)\n",
    "            #picks.append(choice(alleles,L[mut_deme]/K))\n",
    "            if mu>np.random.random():\n",
    "                #3 only particles that are not empty spaces and are not the 'peak' in the landscape strucutre can mutate\n",
    "                if picks[2] != n_allele and picks[2] != 0:\n",
    "                    ## mutate cell and fromat in terms of cell counts i.e. [empty cell count,...,chosen cell count]\n",
    "\n",
    "                    ##remove original cell and add mutated cell to cell counts\n",
    "                    L[picks[2]] -=1\n",
    "                    L[picks[2]+1] +=1\n",
    "                    \n",
    "\n",
    "\n",
    "        #L_history = np.concatenate((L_history, np.expand_dims(L,0)),axis=0)\n",
    "        L_history[t] = L\n",
    "    return L_history\n",
    "#Run the automaton\n",
    "#Implements cell division. The division rates are based on the experimental data\n",
    "\n",
    "@njit\n",
    "def fix_time_mixed(K, ## population size\n",
    "                   landscape, ## fitness landscape (Growthrates of each genotype (should be <<1))\n",
    "                   mu,\n",
    "                   L_init,\n",
    "                   thresh):\n",
    "     ## number of alleles in system (based of off provided landscape)\n",
    "    n_allele = len(landscape)\n",
    "\n",
    "    ##initialize probability matrix\n",
    "    #L = L_init\n",
    "\n",
    "    L=L_init\n",
    "    P = np.ones((n_allele+1,n_allele+1))\n",
    "    P[0,1:] = 1 - landscape\n",
    "    \n",
    "    ## list of allele number - pre-established so array doesnt have to be regenerated\n",
    "    alleles = np.arange(n_allele+1)\n",
    "    \n",
    "    #slots for picked alleles each iteration to be stored, so array doesnt havent to be regerated each time\n",
    "    picks = np.array([0,0,0])\n",
    "    \n",
    "\n",
    "\n",
    "        \n",
    "    fixed=False\n",
    "    muts_check = False\n",
    "    del_check =False\n",
    "    del_fix = False\n",
    "    arise_time =0 \n",
    "    t = 0\n",
    "    init_pop = np.sum(L)\n",
    "    while not fixed:\n",
    "\n",
    "\n",
    "        #duplication: pick two cells from the selected deme and echange first with copy of second according to\n",
    "        #3 probability matrix\n",
    "        for i in range(2):\n",
    "            picks[i] = choice(alleles,L/K)\n",
    "\n",
    "        if P[picks[0],picks[1]] > np.random.random():\n",
    "            L[picks[0]] += 1\n",
    "            L[picks[1]] -= 1\n",
    "\n",
    "\n",
    "        ##mutation\n",
    "        \n",
    "        picks[2] = choice(alleles,L/K)\n",
    "        #picks.append(choice(alleles,L[mut_deme]/K))\n",
    "        if mu>np.random.random():\n",
    "            #3 only particles that are not empty spaces and are not the 'peak' in the landscape strucutre can mutate\n",
    "            if picks[2] != n_allele and picks[2] != 0:\n",
    "                ## mutate cell and fromat in terms of cell counts i.e. [empty cell count,...,chosen cell count]\n",
    "\n",
    "                ##remove original cell and add mutated cell to cell counts\n",
    "                L[picks[2]] -=1\n",
    "                L[picks[2]+1] +=1\n",
    "        ##track how many demes are to be omitted\n",
    "\n",
    "        if L[-2]==K and not del_check:\n",
    "            del_fix = True\n",
    "            del_check=True\n",
    "\n",
    "            \n",
    "        ##check if beneficial mutant has arised, if it previously didnt exicst  \n",
    "        if (L[-1] !=0) ==True and not muts_check:\n",
    "            ## record time\n",
    "            arise_time = t\n",
    "            muts_check =True\n",
    "        if muts_check and not L[-1] !=0:\n",
    "            arise_time = 0\n",
    "            muts_check = False\n",
    "            \n",
    "        ## check if fixed\n",
    "        fixed = np.sum(L[1:n_allele])<(thresh*init_pop)\n",
    "        t+=1\n",
    "\n",
    "\n",
    "    return L, arise_time,t, del_fix\n",
    "\n",
    "\n",
    "    \n",
    "\n",
    "    \n"
   ]
  },
  {
   "cell_type": "code",
   "execution_count": 20,
   "metadata": {},
   "outputs": [],
   "source": [
    "@njit\n",
    "def norm():\n",
    "    return np.random.normal(r*alpha,.001)"
   ]
  },
  {
   "cell_type": "code",
   "execution_count": 21,
   "metadata": {},
   "outputs": [
    {
     "data": {
      "text/plain": [
       "0.2011576760719657"
      ]
     },
     "execution_count": 21,
     "metadata": {},
     "output_type": "execute_result"
    }
   ],
   "source": [
    "norm()"
   ]
  },
  {
   "cell_type": "code",
   "execution_count": 32,
   "metadata": {},
   "outputs": [
    {
     "ename": "TypingError",
     "evalue": "Failed in nopython mode pipeline (step: nopython frontend)\n\u001b[1mUntyped global name 'cell_types':\u001b[0m \u001b[1m\u001b[1mcannot determine Numba type of <class 'numba.ir.UndefinedType'>\u001b[0m\n\u001b[1m\nFile \"<ipython-input-31-ef0eabab2d63>\", line 147:\u001b[0m\n\u001b[1mdef run_stepping_stone(n_gen,## nunmber of gnerations\n    <source elided>\n                    L[mut_deme,picks[4]+1] +=1\n\u001b[1m                    g_rates = np.sort(np.append(g_rates,[cell_types[pick_ind]]))\n\u001b[0m                    \u001b[1m^\u001b[0m\u001b[0m\n\u001b[0m",
     "output_type": "error",
     "traceback": [
      "\u001b[0;31m---------------------------------------------------------------------------\u001b[0m",
      "\u001b[0;31mTypingError\u001b[0m                               Traceback (most recent call last)",
      "\u001b[0;32m<ipython-input-32-3e61ff23d9a1>\u001b[0m in \u001b[0;36m<module>\u001b[0;34m()\u001b[0m\n\u001b[1;32m      7\u001b[0m \u001b[0mthresh\u001b[0m\u001b[0;34m=\u001b[0m\u001b[0;36m3\u001b[0m\u001b[0;34m/\u001b[0m\u001b[0mK\u001b[0m\u001b[0;34m\u001b[0m\u001b[0;34m\u001b[0m\u001b[0m\n\u001b[1;32m      8\u001b[0m \u001b[0mL_init\u001b[0m \u001b[0;34m=\u001b[0m \u001b[0minitialize\u001b[0m\u001b[0;34m(\u001b[0m\u001b[0mK\u001b[0m\u001b[0;34m,\u001b[0m\u001b[0;36m1\u001b[0m\u001b[0;34m,\u001b[0m\u001b[0mmu\u001b[0m\u001b[0;34m)\u001b[0m\u001b[0;34m[\u001b[0m\u001b[0;36m0\u001b[0m\u001b[0;34m]\u001b[0m\u001b[0;34m\u001b[0m\u001b[0;34m\u001b[0m\u001b[0m\n\u001b[0;32m----> 9\u001b[0;31m \u001b[0mL\u001b[0m\u001b[0;34m,\u001b[0m\u001b[0mg\u001b[0m\u001b[0;34m=\u001b[0m\u001b[0mrun_stepping_stone\u001b[0m\u001b[0;34m(\u001b[0m\u001b[0mn_gen\u001b[0m\u001b[0;34m,\u001b[0m\u001b[0mK\u001b[0m\u001b[0;34m,\u001b[0m\u001b[0mr\u001b[0m\u001b[0;34m,\u001b[0m\u001b[0malpha\u001b[0m\u001b[0;34m,\u001b[0m\u001b[0mmu\u001b[0m\u001b[0;34m,\u001b[0m\u001b[0mL_init\u001b[0m\u001b[0;34m,\u001b[0m\u001b[0mnp\u001b[0m\u001b[0;34m.\u001b[0m\u001b[0mzeros\u001b[0m\u001b[0;34m(\u001b[0m\u001b[0;34m(\u001b[0m\u001b[0mn_gen\u001b[0m\u001b[0;34m,\u001b[0m\u001b[0mlen\u001b[0m\u001b[0;34m(\u001b[0m\u001b[0mL_init\u001b[0m\u001b[0;34m)\u001b[0m\u001b[0;34m,\u001b[0m\u001b[0;36m2\u001b[0m\u001b[0;34m)\u001b[0m\u001b[0;34m)\u001b[0m\u001b[0;34m)\u001b[0m\u001b[0;34m\u001b[0m\u001b[0;34m\u001b[0m\u001b[0m\n\u001b[0m",
      "\u001b[0;32m~/.local/lib/python3.7/site-packages/numba/dispatcher.py\u001b[0m in \u001b[0;36m_compile_for_args\u001b[0;34m(self, *args, **kws)\u001b[0m\n\u001b[1;32m    399\u001b[0m                 \u001b[0me\u001b[0m\u001b[0;34m.\u001b[0m\u001b[0mpatch_message\u001b[0m\u001b[0;34m(\u001b[0m\u001b[0mmsg\u001b[0m\u001b[0;34m)\u001b[0m\u001b[0;34m\u001b[0m\u001b[0;34m\u001b[0m\u001b[0m\n\u001b[1;32m    400\u001b[0m \u001b[0;34m\u001b[0m\u001b[0m\n\u001b[0;32m--> 401\u001b[0;31m             \u001b[0merror_rewrite\u001b[0m\u001b[0;34m(\u001b[0m\u001b[0me\u001b[0m\u001b[0;34m,\u001b[0m \u001b[0;34m'typing'\u001b[0m\u001b[0;34m)\u001b[0m\u001b[0;34m\u001b[0m\u001b[0;34m\u001b[0m\u001b[0m\n\u001b[0m\u001b[1;32m    402\u001b[0m         \u001b[0;32mexcept\u001b[0m \u001b[0merrors\u001b[0m\u001b[0;34m.\u001b[0m\u001b[0mUnsupportedError\u001b[0m \u001b[0;32mas\u001b[0m \u001b[0me\u001b[0m\u001b[0;34m:\u001b[0m\u001b[0;34m\u001b[0m\u001b[0;34m\u001b[0m\u001b[0m\n\u001b[1;32m    403\u001b[0m             \u001b[0;31m# Something unsupported is present in the user code, add help info\u001b[0m\u001b[0;34m\u001b[0m\u001b[0;34m\u001b[0m\u001b[0;34m\u001b[0m\u001b[0m\n",
      "\u001b[0;32m~/.local/lib/python3.7/site-packages/numba/dispatcher.py\u001b[0m in \u001b[0;36merror_rewrite\u001b[0;34m(e, issue_type)\u001b[0m\n\u001b[1;32m    342\u001b[0m                 \u001b[0;32mraise\u001b[0m \u001b[0me\u001b[0m\u001b[0;34m\u001b[0m\u001b[0;34m\u001b[0m\u001b[0m\n\u001b[1;32m    343\u001b[0m             \u001b[0;32melse\u001b[0m\u001b[0;34m:\u001b[0m\u001b[0;34m\u001b[0m\u001b[0;34m\u001b[0m\u001b[0m\n\u001b[0;32m--> 344\u001b[0;31m                 \u001b[0mreraise\u001b[0m\u001b[0;34m(\u001b[0m\u001b[0mtype\u001b[0m\u001b[0;34m(\u001b[0m\u001b[0me\u001b[0m\u001b[0;34m)\u001b[0m\u001b[0;34m,\u001b[0m \u001b[0me\u001b[0m\u001b[0;34m,\u001b[0m \u001b[0;32mNone\u001b[0m\u001b[0;34m)\u001b[0m\u001b[0;34m\u001b[0m\u001b[0;34m\u001b[0m\u001b[0m\n\u001b[0m\u001b[1;32m    345\u001b[0m \u001b[0;34m\u001b[0m\u001b[0m\n\u001b[1;32m    346\u001b[0m         \u001b[0margtypes\u001b[0m \u001b[0;34m=\u001b[0m \u001b[0;34m[\u001b[0m\u001b[0;34m]\u001b[0m\u001b[0;34m\u001b[0m\u001b[0;34m\u001b[0m\u001b[0m\n",
      "\u001b[0;32m~/.local/lib/python3.7/site-packages/numba/six.py\u001b[0m in \u001b[0;36mreraise\u001b[0;34m(tp, value, tb)\u001b[0m\n\u001b[1;32m    666\u001b[0m             \u001b[0mvalue\u001b[0m \u001b[0;34m=\u001b[0m \u001b[0mtp\u001b[0m\u001b[0;34m(\u001b[0m\u001b[0;34m)\u001b[0m\u001b[0;34m\u001b[0m\u001b[0;34m\u001b[0m\u001b[0m\n\u001b[1;32m    667\u001b[0m         \u001b[0;32mif\u001b[0m \u001b[0mvalue\u001b[0m\u001b[0;34m.\u001b[0m\u001b[0m__traceback__\u001b[0m \u001b[0;32mis\u001b[0m \u001b[0;32mnot\u001b[0m \u001b[0mtb\u001b[0m\u001b[0;34m:\u001b[0m\u001b[0;34m\u001b[0m\u001b[0;34m\u001b[0m\u001b[0m\n\u001b[0;32m--> 668\u001b[0;31m             \u001b[0;32mraise\u001b[0m \u001b[0mvalue\u001b[0m\u001b[0;34m.\u001b[0m\u001b[0mwith_traceback\u001b[0m\u001b[0;34m(\u001b[0m\u001b[0mtb\u001b[0m\u001b[0;34m)\u001b[0m\u001b[0;34m\u001b[0m\u001b[0;34m\u001b[0m\u001b[0m\n\u001b[0m\u001b[1;32m    669\u001b[0m         \u001b[0;32mraise\u001b[0m \u001b[0mvalue\u001b[0m\u001b[0;34m\u001b[0m\u001b[0;34m\u001b[0m\u001b[0m\n\u001b[1;32m    670\u001b[0m \u001b[0;34m\u001b[0m\u001b[0m\n",
      "\u001b[0;31mTypingError\u001b[0m: Failed in nopython mode pipeline (step: nopython frontend)\n\u001b[1mUntyped global name 'cell_types':\u001b[0m \u001b[1m\u001b[1mcannot determine Numba type of <class 'numba.ir.UndefinedType'>\u001b[0m\n\u001b[1m\nFile \"<ipython-input-31-ef0eabab2d63>\", line 147:\u001b[0m\n\u001b[1mdef run_stepping_stone(n_gen,## nunmber of gnerations\n    <source elided>\n                    L[mut_deme,picks[4]+1] +=1\n\u001b[1m                    g_rates = np.sort(np.append(g_rates,[cell_types[pick_ind]]))\n\u001b[0m                    \u001b[1m^\u001b[0m\u001b[0m\n\u001b[0m"
     ]
    }
   ],
   "source": [
    "K= 200\n",
    "\n",
    "r=.1\n",
    "alpha=2\n",
    "mu=.001\n",
    "n_gen =1000\n",
    "thresh=3/K\n",
    "L_init = initialize(K,1,mu)[0]\n",
    "L,g=run_stepping_stone(n_gen,K,r,alpha,mu,L_init,np.zeros((n_gen,len(L_init),2)))"
   ]
  },
  {
   "cell_type": "code",
   "execution_count": 26,
   "metadata": {},
   "outputs": [
    {
     "data": {
      "text/plain": [
       "(531, 2)"
      ]
     },
     "execution_count": 26,
     "metadata": {},
     "output_type": "execute_result"
    }
   ],
   "source": [
    "L_init = initialize(K,1,mu)[0]\n",
    "L_init.shape"
   ]
  },
  {
   "cell_type": "code",
   "execution_count": 2,
   "metadata": {},
   "outputs": [],
   "source": [
    "##standing wave solution of Fisher wave\n",
    "def standing_wave(y0,x,D,rw):\n",
    "    w = y0[0]      ##initial value for wave profile at x =0, i.e. w(x=0)\n",
    "    z = y0[1]      ##initial value for rate of change of profile w.r.t. position x , at x=0 i.e. dw/dx(x=0)\n",
    "    dwdx = z\n",
    "    dzdx =(-2*((rw*D)**.5)*dwdx -w*rw*(1-w))/D\n",
    "    \n",
    "    return [dwdx,dzdx]"
   ]
  },
  {
   "cell_type": "code",
   "execution_count": null,
   "metadata": {},
   "outputs": [],
   "source": []
  },
  {
   "cell_type": "code",
   "execution_count": 578,
   "metadata": {},
   "outputs": [],
   "source": [
    "def fit_dist(r,alpha,dist_key):\n",
    "    dist_dict = {'exponential':np.random.exponential,\n",
    "                 'gamma':np.random.gamma,\n",
    "                 'normal':np.random.normal}\n",
    "    func = dist_dict[dist_key]\n",
    "    s_bar  = r*func(alpha)\n",
    "    return s_bar\n",
    "\n",
    "##standing wave solution of Fisher wave\n",
    "def standing_wave(y0,x,D,rw):\n",
    "    w = y0[0]      ##initial value for wave profile at x =0, i.e. w(x=0)\n",
    "    z = y0[1]      ##initial value for rate of change of profile w.r.t. position x , at x=0 i.e. dw/dx(x=0)\n",
    "    dwdx = z\n",
    "    dzdx =(-2*((rw*D)**.5)*dwdx -w*rw*(1-w))/D\n",
    "    \n",
    "    return [dwdx,dzdx]\n",
    "\n",
    "\n",
    "###given a list of demes (indexes), pick two neighobiring ones at random\n",
    "def rand_neighbors(demes):\n",
    "    ind_1 = np.random.choice(demes)\n",
    "    left = demes[:ind_1][-1:]\n",
    "    right = demes[ind_1:][1:2]\n",
    "    neighb = np.append(left,right).flatten()\n",
    "    ind_2=choice(neighb)\n",
    "    neigh = [ind_1,ind_2]\n",
    "    neigh.sort()\n",
    "    return np.array(neigh)\n",
    "\n",
    "## covert a list of cell counts for each particle type to an array of \n",
    "#all particles represented with their type represented by an itenged\n",
    "def counts_to_cells(counts,n_allele):\n",
    "    cells = np.unique(cells,return_counts=True)\n",
    "    return cells\n",
    "\n",
    "## covert an array of all cells and their type to a list of counts for each cell type \n",
    "def cells_to_counts(cell_types,g_rates):\n",
    "    g_r = np.unique(cell_types,return_counts=True)[0]\n",
    "    raw_counts = np.unique(cell_types,return_counts=True)[1]\n",
    "    cell_counts = []\n",
    "    for i in g_rates:\n",
    "        if any(g_r == i):\n",
    "            cell_counts.append(raw_counts[np.where(g_r == i)[0][0]])\n",
    "        else:\n",
    "            cell_counts.append(0)\n",
    "    cell_counts = np.array(cell_counts)\n",
    "\n",
    "    return cell_counts\n",
    "    \n",
    "    \n",
    "## from a list 2d array of the cell list from two neighboring demes\n",
    "##pick two cells to be swapped at random and return resulting cell list\n",
    "def migration(cell_counts,g_rates,K,r):\n",
    "    picks = []\n",
    "    cell_types = [] \n",
    "    for i in [0,1]:\n",
    "        pick_ind=choice(np.arange(K))\n",
    "        picks.append(np.arange(K) == pick_ind)\n",
    "        cell_types.append(np.repeat( g_rates, cell_counts[i].astype(int)))\n",
    "    picks = np.array(picks)\n",
    "    keep =  ~np.array(picks)\n",
    "    \n",
    "\n",
    "\n",
    "    cell_types[0]= np.append(cell_types[0][keep[0]], [cell_types[1][picks[1]]])\n",
    "    cell_types[1]= np.append(cell_types[1][keep[1]], [cell_types[0][picks[0]]])\n",
    "    return np.array(cell_types)\n",
    "\n",
    "## from the cell list from the chosen d0eme\n",
    "##pick *-\\\\\\\\\\\\\\\\\\\\\\\\\\\\\\\n",
    "#wo cells and replace one with a duplicate of the other according\n",
    "##to transition matrix\n",
    "def duplication(cell_counts,g_rates,K,r):\n",
    "    pick_ind=choice(np.arange(K),2,replace= False)\n",
    "    cell_types = np.repeat(g_rates, cell_counts.astype(int))\n",
    "    picks = np.array([np.arange(K) == pick_ind[i] for i in [0,1]])\n",
    "    r= np.random.random()\n",
    "    P=prob_mat(g_rates)\n",
    "    #print(cell_types)\n",
    "    if P[tuple([np.where(cell_types[ind] == g_rates)[0] for ind in pick_ind])]> r:\n",
    "        cell_types[pick_ind[1]] =cell_types[pick_ind[0]]\n",
    "    return cell_types\n",
    "    \n",
    " ## from the cell list from the chosen deme\n",
    "##pick a cell and mutate it with probability according to mutation rate\n",
    "def mutation(mu,alpha,dist_key, cell_counts,g_rates,K,r):\n",
    "\n",
    "    cell_types = np.repeat(g_rates,cell_counts.astype(int))\n",
    "    pick_ind=choice(np.arange(K))\n",
    "    p= np.random.random()\n",
    "    s_pos=0\n",
    "    if mu>p:\n",
    "        if cell_types[pick_ind] == r :\n",
    "            s_new = fit_dist(r,alpha,dist_key)\n",
    "            cell_types[pick_ind] = s_new\n",
    "            g_rates = np.sort(np.append(g_rates,[cell_types[pick_ind]]))\n",
    "            s_pos = np.where(g_rates==s_new)[0][0]\n",
    "    return cell_types, g_rates,s_pos\n",
    "\n",
    "## perform stepping stone alogrithm (migration, duplication, mutation) for each step\n",
    "## and return new simulation box, recenter\n",
    "\n",
    "def recenter(L, g_rates, K):\n",
    "    shift = 0\n",
    "    L_empty= np.append([K],np.zeros(len(g_rates)-1,dtype=float))\n",
    "    while L[0,0]<int(.02*K):\n",
    "        L=L[1:,:]\n",
    "        shift+=1\n",
    "    for i in range(shift):\n",
    "        L=np.append(L,[L_empty],axis=0)\n",
    "    return L\n",
    "\n",
    "\n",
    "def update(L,g_rates,dist_key,K,r,alpha,mu):\n",
    "    #demes = np.arange(len(L))\n",
    "    L_tip = np.where(L[:,0]!=K)[0][-1]\n",
    "    demes = np.arange(L_tip+2)\n",
    "    #migration\n",
    "    neighbors = rand_neighbors(demes)\n",
    "    cells = migration(L[neighbors],g_rates,K,r)\n",
    "    counts = [cells_to_counts(cell,g_rates) for cell in cells]\n",
    "    L[neighbors] = np.array(counts)\n",
    "\n",
    "    #duplication\n",
    "    dup_deme = choice(demes)\n",
    "    cells = duplication(L[dup_deme],g_rates,K,r)\n",
    "    counts = cells_to_counts(cells,g_rates)\n",
    "    L[dup_deme] = counts\n",
    "\n",
    "    ##mutation\n",
    "    mut_deme = choice(demes)\n",
    "    cells, g_rates,s_pos = mutation(mu,alpha,dist_key, L[mut_deme],g_rates,K,r)\n",
    "    counts = cells_to_counts(cells,g_rates)\n",
    "    for i in range(len(g_rates)-len(L[0])):\n",
    "        L = np.append(np.append(L[:,:(s_pos)],\n",
    "                                np.vstack(np.zeros(len(L))),axis=1),L[:,(s_pos):],axis=1)\n",
    "        #print(counts)\n",
    "        #print(L[mut_deme])\n",
    "        #print(L)\n",
    "    L[mut_deme]=counts\n",
    "        \n",
    "    return L,g_rates\n",
    "\n",
    "\n",
    "def initialize(K,r,alpha,mu):\n",
    "    stand = odeint(standing_wave,[1,-(2*2**.5)/K],np.arange(70),args=(2*2**.5,1))[:,0]\n",
    "    w_0 = (K*stand).astype(int)\n",
    "    w_0 = w_0[w_0>1]\n",
    "    L = np.vstack(((K-w_0),w_0)).T\n",
    "    g_rates = np.array([0,r])\n",
    "\n",
    "    ##initialize array\n",
    "    L_empty= np.append([K],np.zeros(len(g_rates)-1))\n",
    "\n",
    "    for i in range(70):\n",
    "        L= np.append(L,[L_empty],axis=0)\n",
    "    return L.astype(int), g_rates\n",
    "\n",
    "def prob_mat(g_rates):\n",
    "    P = np.ones((len(g_rates),len(g_rates)))\n",
    "    P[0,:] = 1-g_rates\n",
    "    return P \n",
    "\n",
    "def prune(L,g_rates):\n",
    "    \n",
    "    full_bools = np.where(np.sum(L,axis=0)!=0)[0][-1]\n",
    "    L=L[:,:full_bools]\n",
    "    g_rates = g_rates[:full_bools]\n",
    "    return L,g_rates\n",
    "\n",
    "## run one dimensional stepping stone for a given number of possible beneficil mutations, and generations   \n",
    "def run_stepping_stone(n_gen,K,r,alpha,mu,dist_key = 'exponential'):\n",
    "    func_args = [K,r,alpha,mu]\n",
    "    ##initialize probability matrix\n",
    "    c = 1\n",
    "    move=10\n",
    "    L, g_rates = initialize(*func_args)\n",
    "    L_history=[L]\n",
    "    #begin evolution\n",
    "    count = 0\n",
    "    for t in range(n_gen):\n",
    "        for dt in range(K):\n",
    "            L,g_rates = update(L,g_rates,dist_key,*func_args)\n",
    "            \n",
    "            L= recenter(L,g_rates,K)\n",
    "        \n",
    "        #L,g_rates =prune(L,g_rates)\n",
    "        L_history.append(L)\n",
    "        \n",
    "\n",
    "        count+=1\n",
    "    return L_history, g_rates\n",
    "\n",
    "\n",
    "## run a two allele 1d stepping stone simulation, recording mutant establishment and fixation along simulation box\n",
    "def fix_time(K,r,alpha,mu,thresh,dist_key , track):\n",
    "    func_args = [K,r,alpha,mu]\n",
    "    ##initialize probability matrix\n",
    "    c = 1\n",
    "    move=10\n",
    "    L, g_rates = initialize(*func_args)\n",
    "    L_history=[L]\n",
    "    #begin evolution\n",
    "    count = 0\n",
    "    #begin evolution\n",
    "    fixed=False\n",
    "    t = 0\n",
    "\n",
    "    fix_times = np.zeros(len(L))\n",
    "    est_times = np.zeros(len(L))\n",
    "    fb_1, eb_1 = (np.zeros(len(L)) == 1),(np.zeros(len(L)) == 1) \n",
    "    while not fixed:\n",
    "        L,g_rates = update(L,g_rates,dist_key,*func_args)\n",
    "        L= recenter(L,g_rates,K)\n",
    "        wt_ind = np.where(g_rates==r)[0][0]\n",
    "        fix_bools = L[:,wt_ind] < int(thresh*K)\n",
    "        #est_bools = L[:,2] > int(1/(r*alpha))\n",
    "        fixed= all(fix_bools)\n",
    "\n",
    "        fix_times  = [max(i,time) for i, time in zip((fix_bools^fb_1)*t,fix_times)]\n",
    "            #est_times  = [max(i,time) for i, time in zip((est_bools^eb_1)*t,est_times)]\n",
    "        fb_1= fix_bools\n",
    "        t+=1\n",
    "    return L,fix_times,g_rates\n",
    "\n",
    "      \n",
    "\n",
    "        "
   ]
  },
  {
   "cell_type": "code",
   "execution_count": 76,
   "metadata": {},
   "outputs": [],
   "source": [
    "K= 200\n",
    "\n",
    "r=.1\n",
    "alpha=2\n",
    "mu=.001\n",
    "\n",
    "thresh=3/K\n",
    "\n",
    "L,g=run_stepping_stone(5000,K,r,alpha,mu,dist_key = 'normal')"
   ]
  },
  {
   "cell_type": "code",
   "execution_count": 72,
   "metadata": {},
   "outputs": [],
   "source": [
    "K= 200\n",
    "\n",
    "r=.1\n",
    "alpha=2\n",
    "mu=.001\n",
    "\n",
    "thresh=3/K\n",
    "\n",
    "L,times=fix_time(K,r,alpha,mu,thresh,dist_key = 'normal')"
   ]
  },
  {
   "cell_type": "code",
   "execution_count": 80,
   "metadata": {},
   "outputs": [],
   "source": [
    "trace = L[1500]"
   ]
  },
  {
   "cell_type": "code",
   "execution_count": 91,
   "metadata": {},
   "outputs": [
    {
     "data": {
      "text/plain": [
       "(101, 16)"
      ]
     },
     "execution_count": 91,
     "metadata": {},
     "output_type": "execute_result"
    }
   ],
   "source": [
    "L[1500][:,inds].shape"
   ]
  },
  {
   "cell_type": "code",
   "execution_count": 84,
   "metadata": {},
   "outputs": [],
   "source": [
    "inds = np.where(np.sum(L[1500],axis=0)!=0)[0]\n",
    "trace = L[1500][:,inds]"
   ]
  },
  {
   "cell_type": "code",
   "execution_count": 99,
   "metadata": {},
   "outputs": [
    {
     "data": {
      "image/png": "[encoded data removed]",
      "text/plain": [
       "<Figure size 864x288 with 1 Axes>"
      ]
     },
     "metadata": {
      "needs_background": "light"
     },
     "output_type": "display_data"
    }
   ],
   "source": [
    "rng=45\n",
    "fig,ax =plt.subplots(figsize=(12,4))\n",
    "\n",
    "\n",
    "\n",
    "colors = ['darkblue','darkred','salmon','darkgrey','blue','teal','red','silver',\n",
    "          'pink','orange','grey','purple','lightblue','magenta','navy']\n",
    "labels = ['Wild-type', 'Single mutant', 'Double mutant']\n",
    "for i in range(len(trace[0])-1):\n",
    "    ax.fill_between(np.arange(rng),np.sum(trace[:rng,1+i:],axis=1),color=colors[i])\n",
    "    \n",
    "    \n",
    "ax.spines['right'].set_visible(False)\n",
    "ax.spines['top'].set_visible(False)\n",
    "\n",
    "ax.spines['left'].set_linewidth(2)\n",
    "ax.spines['bottom'].set_linewidth(2)\n",
    "\n",
    "\n",
    "ax.set_ylim(0,200)\n",
    "ax.set_yticks([200])\n",
    "\n",
    "ax.set_yticklabels([1],fontsize=20)\n",
    "\n",
    "ax.set_ylabel('Frequency',fontsize=25)\n",
    "ax.set_xlabel('Position',fontsize=25)\n",
    "ax.set_xticks([])\n",
    "ax.set_xlim(0,rng)\n",
    "\n",
    "plt.savefig('clonal_interfere.pdf')"
   ]
  },
  {
   "cell_type": "code",
   "execution_count": 51,
   "metadata": {},
   "outputs": [
    {
     "data": {
      "text/plain": [
       "array([  8., 113.,   0.,   0.,   0.,   0.,   0.,   0.,   0.,   2.,   0.,\n",
       "         0.,   0.,   0.,   0.,   0.,   0.,   0.,   0.,   0.,   0.,   0.,\n",
       "         1.,   0.,   0.,   0.,   0.,   0.,   0.,   0.,   0.,   0.,   0.,\n",
       "         0.,   0.,   0.,   0.,   0.,   0.,   0.,   0.,   0.,   0.,   0.,\n",
       "         0.,   0.,   0.,   0.,   0.,   0.,   3.,   3.,   0.,   0.,   0.,\n",
       "         0.,   0.,   0.,   0.,   2.,   0.,   0.,   5.,   2.,   0.,   0.,\n",
       "         2.,   0.,   0.,   0.,   0.,   0.,   0.,   0.,   0.,   0.,   0.,\n",
       "         0.,   0.,   0.,   0.,   0.,   0.,   0.,   4.,   0.,   0.,   0.,\n",
       "         0.,   0.,   0.,   0.,   0.,   0.,   0.,   0.,   0.,   0.,   0.,\n",
       "         0.,   0.,   1.,   0.,   0.,   0.,   0.,   0.,   0.,   0.,   0.,\n",
       "         0.,   0.,   0.,   0.,  38.,   0.,   0.,   0.,   0.,   0.,   0.,\n",
       "         0.,   0.,  14.,   0.,   2.])"
      ]
     },
     "execution_count": 51,
     "metadata": {},
     "output_type": "execute_result"
    }
   ],
   "source": [
    "L[1500][10]"
   ]
  },
  {
   "cell_type": "code",
   "execution_count": 544,
   "metadata": {},
   "outputs": [],
   "source": [
    "neighbors = rand_neighbors(demes)\n",
    "cells = migration(L[neighbors],g_rates,K,r)\n",
    "counts = [cells_to_counts(cell,g_rates) for cell in cells]\n",
    "L[neighbors] = np.array(counts)"
   ]
  },
  {
   "cell_type": "code",
   "execution_count": 607,
   "metadata": {},
   "outputs": [],
   "source": [
    "neighbors = choice(demes)"
   ]
  },
  {
   "cell_type": "code",
   "execution_count": 650,
   "metadata": {},
   "outputs": [
    {
     "data": {
      "text/plain": [
       "array([1.])"
      ]
     },
     "execution_count": 650,
     "metadata": {},
     "output_type": "execute_result"
    }
   ],
   "source": [
    "P=prob_mat(g_rates)\n",
    "#print(cell_types)\n",
    "P[tuple([np.where(cell_types[ind] == g_rates)[0] for ind in pick_ind])]"
   ]
  },
  {
   "cell_type": "code",
   "execution_count": 643,
   "metadata": {},
   "outputs": [
    {
     "data": {
      "text/plain": [
       "(array([1]), array([1]))"
      ]
     },
     "execution_count": 643,
     "metadata": {},
     "output_type": "execute_result"
    }
   ],
   "source": [
    "tuple([np.where(cell_types[ind] == g_rates)[0] for ind in pick_ind])"
   ]
  },
  {
   "cell_type": "code",
   "execution_count": 662,
   "metadata": {},
   "outputs": [
    {
     "data": {
      "text/plain": [
       "array([0. , 0.1])"
      ]
     },
     "execution_count": 662,
     "metadata": {},
     "output_type": "execute_result"
    }
   ],
   "source": [
    "cell_types = np.repeat(g_rates, cell_counts.astype(int))\n",
    "cell_types[[0,-1]]"
   ]
  },
  {
   "cell_type": "code",
   "execution_count": 663,
   "metadata": {},
   "outputs": [
    {
     "data": {
      "text/plain": [
       "array([0.9])"
      ]
     },
     "execution_count": 663,
     "metadata": {},
     "output_type": "execute_result"
    }
   ],
   "source": [
    "P[tuple([np.where(cell_types[ind] == g_rates)[0] for ind in pick_ind])]"
   ]
  },
  {
   "cell_type": "code",
   "execution_count": 608,
   "metadata": {},
   "outputs": [],
   "source": [
    "cell_counts = L[neighbors]\n"
   ]
  },
  {
   "cell_type": "code",
   "execution_count": 665,
   "metadata": {},
   "outputs": [
    {
     "data": {
      "text/plain": [
       "array([[1. , 0.9],\n",
       "       [1. , 1. ]])"
      ]
     },
     "execution_count": 665,
     "metadata": {},
     "output_type": "execute_result"
    }
   ],
   "source": [
    "P"
   ]
  },
  {
   "cell_type": "code",
   "execution_count": 667,
   "metadata": {},
   "outputs": [
    {
     "data": {
      "text/plain": [
       "0.9"
      ]
     },
     "execution_count": 667,
     "metadata": {},
     "output_type": "execute_result"
    }
   ],
   "source": [
    "P[0,1]"
   ]
  },
  {
   "cell_type": "code",
   "execution_count": 659,
   "metadata": {},
   "outputs": [
    {
     "data": {
      "text/plain": [
       "array([1.])"
      ]
     },
     "execution_count": 659,
     "metadata": {},
     "output_type": "execute_result"
    }
   ],
   "source": [
    "P[tuple([np.where(cell_types[ind] == g_rates)[0] for ind in pick_ind])]"
   ]
  },
  {
   "cell_type": "code",
   "execution_count": 664,
   "metadata": {},
   "outputs": [],
   "source": [
    "pick_ind = np.array([0,-1])\n",
    "cell_types = np.repeat(g_rates, cell_counts.astype(int))\n",
    "r= np.random.random()\n",
    "P=prob_mat(g_rates)\n",
    "#print(cell_types)\n",
    "if P[tuple([np.where(cell_types[ind] == g_rates)[0] for ind in pick_ind])]> r:\n",
    "    cell_types[pick_ind[1]] =cell_types[pick_ind[0]]"
   ]
  },
  {
   "cell_type": "code",
   "execution_count": 657,
   "metadata": {},
   "outputs": [],
   "source": [
    "cells= cell_types"
   ]
  },
  {
   "cell_type": "code",
   "execution_count": 600,
   "metadata": {},
   "outputs": [
    {
     "data": {
      "text/plain": [
       "[array([75, 25]), array([99,  1])]"
      ]
     },
     "execution_count": 600,
     "metadata": {},
     "output_type": "execute_result"
    }
   ],
   "source": [
    "[cells_to_counts(cell,g_rates) for cell in cells]"
   ]
  },
  {
   "cell_type": "code",
   "execution_count": 601,
   "metadata": {},
   "outputs": [
    {
     "data": {
      "text/plain": [
       "array([[ 74,  26],\n",
       "       [100,   0]])"
      ]
     },
     "execution_count": 601,
     "metadata": {},
     "output_type": "execute_result"
    }
   ],
   "source": [
    "L[[19,20]]"
   ]
  },
  {
   "cell_type": "code",
   "execution_count": 658,
   "metadata": {},
   "outputs": [
    {
     "data": {
      "text/plain": [
       "array([10, 90])"
      ]
     },
     "execution_count": 658,
     "metadata": {},
     "output_type": "execute_result"
    }
   ],
   "source": [
    "cells_to_counts(cell_types,g_rates)"
   ]
  },
  {
   "cell_type": "code",
   "execution_count": 623,
   "metadata": {},
   "outputs": [
    {
     "data": {
      "text/plain": [
       "array([ 9, 91])"
      ]
     },
     "execution_count": 623,
     "metadata": {},
     "output_type": "execute_result"
    }
   ],
   "source": [
    "L[neighbors]"
   ]
  },
  {
   "cell_type": "code",
   "execution_count": 439,
   "metadata": {},
   "outputs": [
    {
     "name": "stderr",
     "output_type": "stream",
     "text": [
      "1it [02:40, 160.24s/it]"
     ]
    },
    {
     "ename": "OSError",
     "evalue": "[Errno 22] Invalid argument",
     "output_type": "error",
     "traceback": [
      "\u001b[0;31m---------------------------------------------------------------------------\u001b[0m",
      "\u001b[0;31mOSError\u001b[0m                                   Traceback (most recent call last)",
      "\u001b[0;32m<ipython-input-439-32f6cabe4ed4>\u001b[0m in \u001b[0;36m<module>\u001b[0;34m()\u001b[0m\n\u001b[1;32m     24\u001b[0m \u001b[0;34m\u001b[0m\u001b[0m\n\u001b[1;32m     25\u001b[0m \u001b[0;34m\u001b[0m\u001b[0m\n\u001b[0;32m---> 26\u001b[0;31m     \u001b[0mnp\u001b[0m\u001b[0;34m.\u001b[0m\u001b[0msave\u001b[0m\u001b[0;34m(\u001b[0m\u001b[0;34m'two_allele_data_%s.npy'\u001b[0m \u001b[0;34m%\u001b[0m \u001b[0mstart\u001b[0m\u001b[0;34m,\u001b[0m\u001b[0mnp\u001b[0m\u001b[0;34m.\u001b[0m\u001b[0marray\u001b[0m\u001b[0;34m(\u001b[0m\u001b[0;34m[\u001b[0m\u001b[0mresults\u001b[0m\u001b[0;34m,\u001b[0m\u001b[0mparams_out\u001b[0m\u001b[0;34m]\u001b[0m\u001b[0;34m)\u001b[0m\u001b[0;34m)\u001b[0m\u001b[0;34m\u001b[0m\u001b[0m\n\u001b[0m\u001b[1;32m     27\u001b[0m \u001b[0;34m\u001b[0m\u001b[0m\n\u001b[1;32m     28\u001b[0m \u001b[0mnp\u001b[0m\u001b[0;34m.\u001b[0m\u001b[0msave\u001b[0m\u001b[0;34m(\u001b[0m\u001b[0;34m'two_allele_data_%s.npy'\u001b[0m \u001b[0;34m%\u001b[0m \u001b[0mstart\u001b[0m\u001b[0;34m,\u001b[0m\u001b[0mnp\u001b[0m\u001b[0;34m.\u001b[0m\u001b[0marray\u001b[0m\u001b[0;34m(\u001b[0m\u001b[0;34m[\u001b[0m\u001b[0mresults\u001b[0m\u001b[0;34m,\u001b[0m\u001b[0mparams_out\u001b[0m\u001b[0;34m]\u001b[0m\u001b[0;34m)\u001b[0m\u001b[0;34m)\u001b[0m\u001b[0;34m\u001b[0m\u001b[0m\n",
      "\u001b[0;32m~/anaconda3/lib/python3.7/site-packages/numpy/lib/npyio.py\u001b[0m in \u001b[0;36msave\u001b[0;34m(file, arr, allow_pickle, fix_imports)\u001b[0m\n\u001b[1;32m    519\u001b[0m         \u001b[0marr\u001b[0m \u001b[0;34m=\u001b[0m \u001b[0mnp\u001b[0m\u001b[0;34m.\u001b[0m\u001b[0masanyarray\u001b[0m\u001b[0;34m(\u001b[0m\u001b[0marr\u001b[0m\u001b[0;34m)\u001b[0m\u001b[0;34m\u001b[0m\u001b[0m\n\u001b[1;32m    520\u001b[0m         format.write_array(fid, arr, allow_pickle=allow_pickle,\n\u001b[0;32m--> 521\u001b[0;31m                            pickle_kwargs=pickle_kwargs)\n\u001b[0m\u001b[1;32m    522\u001b[0m     \u001b[0;32mfinally\u001b[0m\u001b[0;34m:\u001b[0m\u001b[0;34m\u001b[0m\u001b[0m\n\u001b[1;32m    523\u001b[0m         \u001b[0;32mif\u001b[0m \u001b[0mown_fid\u001b[0m\u001b[0;34m:\u001b[0m\u001b[0;34m\u001b[0m\u001b[0m\n",
      "\u001b[0;32m~/anaconda3/lib/python3.7/site-packages/numpy/lib/format.py\u001b[0m in \u001b[0;36mwrite_array\u001b[0;34m(fp, array, version, allow_pickle, pickle_kwargs)\u001b[0m\n\u001b[1;32m    591\u001b[0m         \u001b[0;32mif\u001b[0m \u001b[0mpickle_kwargs\u001b[0m \u001b[0;32mis\u001b[0m \u001b[0;32mNone\u001b[0m\u001b[0;34m:\u001b[0m\u001b[0;34m\u001b[0m\u001b[0m\n\u001b[1;32m    592\u001b[0m             \u001b[0mpickle_kwargs\u001b[0m \u001b[0;34m=\u001b[0m \u001b[0;34m{\u001b[0m\u001b[0;34m}\u001b[0m\u001b[0;34m\u001b[0m\u001b[0m\n\u001b[0;32m--> 593\u001b[0;31m         \u001b[0mpickle\u001b[0m\u001b[0;34m.\u001b[0m\u001b[0mdump\u001b[0m\u001b[0;34m(\u001b[0m\u001b[0marray\u001b[0m\u001b[0;34m,\u001b[0m \u001b[0mfp\u001b[0m\u001b[0;34m,\u001b[0m \u001b[0mprotocol\u001b[0m\u001b[0;34m=\u001b[0m\u001b[0;36m2\u001b[0m\u001b[0;34m,\u001b[0m \u001b[0;34m**\u001b[0m\u001b[0mpickle_kwargs\u001b[0m\u001b[0;34m)\u001b[0m\u001b[0;34m\u001b[0m\u001b[0m\n\u001b[0m\u001b[1;32m    594\u001b[0m     \u001b[0;32melif\u001b[0m \u001b[0marray\u001b[0m\u001b[0;34m.\u001b[0m\u001b[0mflags\u001b[0m\u001b[0;34m.\u001b[0m\u001b[0mf_contiguous\u001b[0m \u001b[0;32mand\u001b[0m \u001b[0;32mnot\u001b[0m \u001b[0marray\u001b[0m\u001b[0;34m.\u001b[0m\u001b[0mflags\u001b[0m\u001b[0;34m.\u001b[0m\u001b[0mc_contiguous\u001b[0m\u001b[0;34m:\u001b[0m\u001b[0;34m\u001b[0m\u001b[0m\n\u001b[1;32m    595\u001b[0m         \u001b[0;32mif\u001b[0m \u001b[0misfileobj\u001b[0m\u001b[0;34m(\u001b[0m\u001b[0mfp\u001b[0m\u001b[0;34m)\u001b[0m\u001b[0;34m:\u001b[0m\u001b[0;34m\u001b[0m\u001b[0m\n",
      "\u001b[0;31mOSError\u001b[0m: [Errno 22] Invalid argument"
     ]
    }
   ],
   "source": [
    "from stepping_stone_funcs import*\n",
    "from tqdm import tqdm\n",
    "from itertools import product\n",
    "import numpy as np\n",
    "import datetime\n",
    "\n",
    "start = datetime.datetime.now()\n",
    "K_space = np.array([100,500])\n",
    "mu_space = np.array([.0005,.001,.005])\n",
    "alphas = np.array([3,5])\n",
    "\n",
    "reps= 1\n",
    "\n",
    "params_out = ['reps='  +str(reps),'K='+str(K_space),'mu='+str(mu_space),'alphas='+str(alphas) ]\n",
    "\n",
    "r=.1\n",
    "\n",
    "results = []\n",
    "\n",
    "for rep, K,mu,a in tqdm(product(range(reps), K_space,mu_space, alphas)):\n",
    "    L = fix_time(K,2,r,a,mu,3/K)\n",
    "    results.append(np.asarray(L))\n",
    "    \n",
    "    \n",
    "    \n",
    "    np.save('two_allele_data_%s.npy' % start,np.array([results,params_out]))\n",
    "    \n",
    "np.save('two_allele_data_%s.npy' % start,np.array([results,params_out]))\n",
    "\n",
    "    \n",
    "    \n",
    "    \n",
    "            \n",
    "\n",
    "\n",
    "\n",
    "\n",
    "\n",
    "    \n",
    "    \n",
    "  \n",
    "    \n",
    "    \n",
    "    \n",
    "    \n",
    "            \n",
    "\n",
    "\n"
   ]
  },
  {
   "cell_type": "code",
   "execution_count": 444,
   "metadata": {},
   "outputs": [
    {
     "ename": "OSError",
     "evalue": "[Errno 22] Invalid argument",
     "output_type": "error",
     "traceback": [
      "\u001b[0;31m---------------------------------------------------------------------------\u001b[0m",
      "\u001b[0;31mOSError\u001b[0m                                   Traceback (most recent call last)",
      "\u001b[0;32m<ipython-input-444-895b7a4cf0e3>\u001b[0m in \u001b[0;36m<module>\u001b[0;34m()\u001b[0m\n\u001b[0;32m----> 1\u001b[0;31m \u001b[0mnp\u001b[0m\u001b[0;34m.\u001b[0m\u001b[0msave\u001b[0m\u001b[0;34m(\u001b[0m\u001b[0;34m'two_allele_data.npy'\u001b[0m\u001b[0;34m,\u001b[0m\u001b[0mnp\u001b[0m\u001b[0;34m.\u001b[0m\u001b[0marray\u001b[0m\u001b[0;34m(\u001b[0m\u001b[0;34m[\u001b[0m\u001b[0mresults\u001b[0m\u001b[0;34m,\u001b[0m\u001b[0mparams_out\u001b[0m\u001b[0;34m]\u001b[0m\u001b[0;34m)\u001b[0m\u001b[0;34m)\u001b[0m\u001b[0;34m\u001b[0m\u001b[0m\n\u001b[0m",
      "\u001b[0;32m~/anaconda3/lib/python3.7/site-packages/numpy/lib/npyio.py\u001b[0m in \u001b[0;36msave\u001b[0;34m(file, arr, allow_pickle, fix_imports)\u001b[0m\n\u001b[1;32m    519\u001b[0m         \u001b[0marr\u001b[0m \u001b[0;34m=\u001b[0m \u001b[0mnp\u001b[0m\u001b[0;34m.\u001b[0m\u001b[0masanyarray\u001b[0m\u001b[0;34m(\u001b[0m\u001b[0marr\u001b[0m\u001b[0;34m)\u001b[0m\u001b[0;34m\u001b[0m\u001b[0m\n\u001b[1;32m    520\u001b[0m         format.write_array(fid, arr, allow_pickle=allow_pickle,\n\u001b[0;32m--> 521\u001b[0;31m                            pickle_kwargs=pickle_kwargs)\n\u001b[0m\u001b[1;32m    522\u001b[0m     \u001b[0;32mfinally\u001b[0m\u001b[0;34m:\u001b[0m\u001b[0;34m\u001b[0m\u001b[0m\n\u001b[1;32m    523\u001b[0m         \u001b[0;32mif\u001b[0m \u001b[0mown_fid\u001b[0m\u001b[0;34m:\u001b[0m\u001b[0;34m\u001b[0m\u001b[0m\n",
      "\u001b[0;32m~/anaconda3/lib/python3.7/site-packages/numpy/lib/format.py\u001b[0m in \u001b[0;36mwrite_array\u001b[0;34m(fp, array, version, allow_pickle, pickle_kwargs)\u001b[0m\n\u001b[1;32m    591\u001b[0m         \u001b[0;32mif\u001b[0m \u001b[0mpickle_kwargs\u001b[0m \u001b[0;32mis\u001b[0m \u001b[0;32mNone\u001b[0m\u001b[0;34m:\u001b[0m\u001b[0;34m\u001b[0m\u001b[0m\n\u001b[1;32m    592\u001b[0m             \u001b[0mpickle_kwargs\u001b[0m \u001b[0;34m=\u001b[0m \u001b[0;34m{\u001b[0m\u001b[0;34m}\u001b[0m\u001b[0;34m\u001b[0m\u001b[0m\n\u001b[0;32m--> 593\u001b[0;31m         \u001b[0mpickle\u001b[0m\u001b[0;34m.\u001b[0m\u001b[0mdump\u001b[0m\u001b[0;34m(\u001b[0m\u001b[0marray\u001b[0m\u001b[0;34m,\u001b[0m \u001b[0mfp\u001b[0m\u001b[0;34m,\u001b[0m \u001b[0mprotocol\u001b[0m\u001b[0;34m=\u001b[0m\u001b[0;36m2\u001b[0m\u001b[0;34m,\u001b[0m \u001b[0;34m**\u001b[0m\u001b[0mpickle_kwargs\u001b[0m\u001b[0;34m)\u001b[0m\u001b[0;34m\u001b[0m\u001b[0m\n\u001b[0m\u001b[1;32m    594\u001b[0m     \u001b[0;32melif\u001b[0m \u001b[0marray\u001b[0m\u001b[0;34m.\u001b[0m\u001b[0mflags\u001b[0m\u001b[0;34m.\u001b[0m\u001b[0mf_contiguous\u001b[0m \u001b[0;32mand\u001b[0m \u001b[0;32mnot\u001b[0m \u001b[0marray\u001b[0m\u001b[0;34m.\u001b[0m\u001b[0mflags\u001b[0m\u001b[0;34m.\u001b[0m\u001b[0mc_contiguous\u001b[0m\u001b[0;34m:\u001b[0m\u001b[0;34m\u001b[0m\u001b[0m\n\u001b[1;32m    595\u001b[0m         \u001b[0;32mif\u001b[0m \u001b[0misfileobj\u001b[0m\u001b[0;34m(\u001b[0m\u001b[0mfp\u001b[0m\u001b[0;34m)\u001b[0m\u001b[0;34m:\u001b[0m\u001b[0;34m\u001b[0m\u001b[0m\n",
      "\u001b[0;31mOSError\u001b[0m: [Errno 22] Invalid argument"
     ]
    }
   ],
   "source": [
    "np.save('two_allele_data.npy',np.array([results,params_out]))"
   ]
  },
  {
   "cell_type": "code",
   "execution_count": 443,
   "metadata": {},
   "outputs": [
    {
     "data": {
      "text/plain": [
       "array([list([array([[[  0, 100,   0],\n",
       "        [  3,  97,   0],\n",
       "        [  4,  96,   0],\n",
       "        ...,\n",
       "        [100,   0,   0],\n",
       "        [100,   0,   0],\n",
       "        [100,   0,   0]],\n",
       "\n",
       "       [[  1,  99,   0],\n",
       "        [  2,  98,   0],\n",
       "        [  2,  98,   0],\n",
       "        ...,\n",
       "        [100,   0,   0],\n",
       "        [100,   0,   0],\n",
       "        [100,   0,   0]],\n",
       "\n",
       "       [[  1,  99,   0],\n",
       "        [  2,  98,   0],\n",
       "        [  2,  98,   0],\n",
       "        ...,\n",
       "        [100,   0,   0],\n",
       "        [100,   0,   0],\n",
       "        [100,   0,   0]],\n",
       "\n",
       "       ...,\n",
       "\n",
       "       [[  1,   9,  90],\n",
       "        [  4,   2,  94],\n",
       "        [  8,   1,  91],\n",
       "        ...,\n",
       "        [100,   0,   0],\n",
       "        [100,   0,   0],\n",
       "        [100,   0,   0]],\n",
       "\n",
       "       [[  1,   9,  90],\n",
       "        [  4,   2,  94],\n",
       "        [  8,   1,  91],\n",
       "        ...,\n",
       "        [100,   0,   0],\n",
       "        [100,   0,   0],\n",
       "        [100,   0,   0]],\n",
       "\n",
       "       [[  4,   2,  94],\n",
       "        [  8,   1,  91],\n",
       "        [ 11,   1,  88],\n",
       "        ...,\n",
       "        [100,   0,   0],\n",
       "        [100,   0,   0],\n",
       "        [100,   0,   0]]]), array([[[  0, 100,   0],\n",
       "        [  3,  97,   0],\n",
       "        [  4,  96,   0],\n",
       "        ...,\n",
       "        [100,   0,   0],\n",
       "        [100,   0,   0],\n",
       "        [100,   0,   0]],\n",
       "\n",
       "       [[  1,  99,   0],\n",
       "        [  8,  92,   0],\n",
       "        [  5,  95,   0],\n",
       "        ...,\n",
       "        [100,   0,   0],\n",
       "        [100,   0,   0],\n",
       "        [100,   0,   0]],\n",
       "\n",
       "       [[  1,  99,   0],\n",
       "        [  8,  92,   0],\n",
       "        [  5,  95,   0],\n",
       "        ...,\n",
       "        [100,   0,   0],\n",
       "        [100,   0,   0],\n",
       "        [100,   0,   0]],\n",
       "\n",
       "       ...,\n",
       "\n",
       "       [[  1,   7,  92],\n",
       "        [  1,  15,  84],\n",
       "        [  1,   7,  92],\n",
       "        ...,\n",
       "        [100,   0,   0],\n",
       "        [100,   0,   0],\n",
       "        [100,   0,   0]],\n",
       "\n",
       "       [[  1,   7,  92],\n",
       "        [  1,  15,  84],\n",
       "        [  1,   7,  92],\n",
       "        ...,\n",
       "        [100,   0,   0],\n",
       "        [100,   0,   0],\n",
       "        [100,   0,   0]],\n",
       "\n",
       "       [[  5,   1,  94],\n",
       "        [  3,   1,  96],\n",
       "        [  8,   0,  92],\n",
       "        ...,\n",
       "        [100,   0,   0],\n",
       "        [100,   0,   0],\n",
       "        [100,   0,   0]]])]),\n",
       "       list(['reps=1', 'K=[100 500]', 'mu=[0.0005 0.001  0.005 ]', 'alphas=[3 5]'])],\n",
       "      dtype=object)"
      ]
     },
     "execution_count": 443,
     "metadata": {},
     "output_type": "execute_result"
    }
   ],
   "source": [
    "np.array([results,params_out])"
   ]
  },
  {
   "cell_type": "code",
   "execution_count": 417,
   "metadata": {},
   "outputs": [],
   "source": [
    "fix_times = []\n",
    "for i in range(len(L_hist[0])):\n",
    "    fix_times.append(np.where(L_hist[:,i,1] <thresh)[0][0])"
   ]
  },
  {
   "cell_type": "code",
   "execution_count": 435,
   "metadata": {},
   "outputs": [
    {
     "data": {
      "text/plain": [
       "[<matplotlib.lines.Line2D at 0x15cb54e0b8>]"
      ]
     },
     "execution_count": 435,
     "metadata": {},
     "output_type": "execute_result"
    },
    {
     "data": {
      "image/png": "[encoded data removed]",
      "text/plain": [
       "<Figure size 432x288 with 1 Axes>"
      ]
     },
     "metadata": {
      "needs_background": "light"
     },
     "output_type": "display_data"
    }
   ],
   "source": [
    "plt.plot(np.array(fix_times)/K)\n",
    "plt.plot(100*(40-np.arange(40)) / (2*(r*alpha)**.5 - 2*(r)**.5))"
   ]
  },
  {
   "cell_type": "code",
   "execution_count": 429,
   "metadata": {},
   "outputs": [
    {
     "data": {
      "text/plain": [
       "array([ 0,  1,  2,  3,  4,  5,  6,  7,  8,  9, 10, 11, 12, 13, 14, 15, 16,\n",
       "       17, 18, 19, 20, 21, 22, 23, 24, 25, 26, 27, 28, 29, 30, 31, 32, 33,\n",
       "       34, 35, 36, 37, 38, 39])"
      ]
     },
     "execution_count": 429,
     "metadata": {},
     "output_type": "execute_result"
    }
   ],
   "source": [
    "np.arange(40)"
   ]
  },
  {
   "cell_type": "code",
   "execution_count": 54,
   "metadata": {},
   "outputs": [
    {
     "ename": "KeyboardInterrupt",
     "evalue": "",
     "output_type": "error",
     "traceback": [
      "\u001b[0;31m---------------------------------------------------------------------------\u001b[0m",
      "\u001b[0;31mKeyboardInterrupt\u001b[0m                         Traceback (most recent call last)",
      "\u001b[0;32m<ipython-input-54-ea47c38357ac>\u001b[0m in \u001b[0;36m<module>\u001b[0;34m()\u001b[0m\n\u001b[1;32m      4\u001b[0m     \u001b[0madd\u001b[0m\u001b[0;34m=\u001b[0m \u001b[0;34m[\u001b[0m\u001b[0;34m]\u001b[0m\u001b[0;34m\u001b[0m\u001b[0m\n\u001b[1;32m      5\u001b[0m     \u001b[0;32mfor\u001b[0m \u001b[0mi\u001b[0m \u001b[0;32min\u001b[0m \u001b[0mrange\u001b[0m\u001b[0;34m(\u001b[0m\u001b[0;34m(\u001b[0m\u001b[0mmax\u001b[0m\u001b[0;34m(\u001b[0m\u001b[0mlengths\u001b[0m\u001b[0;34m)\u001b[0m \u001b[0;34m-\u001b[0m \u001b[0mlen\u001b[0m\u001b[0;34m(\u001b[0m\u001b[0mu\u001b[0m\u001b[0;34m)\u001b[0m\u001b[0;34m)\u001b[0m\u001b[0;34m)\u001b[0m\u001b[0;34m:\u001b[0m\u001b[0;34m\u001b[0m\u001b[0m\n\u001b[0;32m----> 6\u001b[0;31m         \u001b[0madd\u001b[0m\u001b[0;34m.\u001b[0m\u001b[0mappend\u001b[0m\u001b[0;34m(\u001b[0m\u001b[0mnp\u001b[0m\u001b[0;34m.\u001b[0m\u001b[0mappend\u001b[0m\u001b[0;34m(\u001b[0m\u001b[0;34m[\u001b[0m\u001b[0mK\u001b[0m\u001b[0;34m]\u001b[0m\u001b[0;34m,\u001b[0m\u001b[0mnp\u001b[0m\u001b[0;34m.\u001b[0m\u001b[0mzeros\u001b[0m\u001b[0;34m(\u001b[0m\u001b[0mn_allele\u001b[0m\u001b[0;34m)\u001b[0m\u001b[0;34m)\u001b[0m\u001b[0;34m)\u001b[0m\u001b[0;34m\u001b[0m\u001b[0m\n\u001b[0m\u001b[1;32m      7\u001b[0m     \u001b[0mhist_pad\u001b[0m\u001b[0;34m.\u001b[0m\u001b[0mappend\u001b[0m\u001b[0;34m(\u001b[0m\u001b[0mnp\u001b[0m\u001b[0;34m.\u001b[0m\u001b[0mappend\u001b[0m\u001b[0;34m(\u001b[0m\u001b[0mu\u001b[0m\u001b[0;34m,\u001b[0m\u001b[0mnp\u001b[0m\u001b[0;34m.\u001b[0m\u001b[0masarray\u001b[0m\u001b[0;34m(\u001b[0m\u001b[0madd\u001b[0m\u001b[0;34m)\u001b[0m\u001b[0;34m,\u001b[0m\u001b[0maxis\u001b[0m\u001b[0;34m=\u001b[0m\u001b[0;36m0\u001b[0m\u001b[0;34m)\u001b[0m\u001b[0;34m)\u001b[0m\u001b[0;34m\u001b[0m\u001b[0m\n",
      "\u001b[0;31mKeyboardInterrupt\u001b[0m: "
     ]
    }
   ],
   "source": [
    "lengths = [len(u) for u in L_history]\n",
    "hist_pad =  \n",
    "for u in L_history:\n",
    "    add= [] \n",
    "    for i in range((max(lengths) - len(u))):\n",
    "        add.append(np.append([K],np.zeros(n_allele)))\n",
    "    hist_pad.append(np.append(u,np.asarray(add),axis=0))"
   ]
  },
  {
   "cell_type": "code",
   "execution_count": 51,
   "metadata": {},
   "outputs": [
    {
     "data": {
      "text/plain": [
       "[<matplotlib.lines.Line2D at 0x151e0a04e0>]"
      ]
     },
     "execution_count": 51,
     "metadata": {},
     "output_type": "execute_result"
    },
    {
     "data": {
      "image/png": "[encoded data removed]",
      "text/plain": [
       "<Figure size 432x288 with 1 Axes>"
      ]
     },
     "metadata": {
      "needs_background": "light"
     },
     "output_type": "display_data"
    }
   ],
   "source": [
    "plt.plot([len(u) for u in L_history])"
   ]
  },
  {
   "cell_type": "code",
   "execution_count": 39,
   "metadata": {},
   "outputs": [
    {
     "data": {
      "text/plain": [
       "[<matplotlib.lines.Line2D at 0x151d440518>]"
      ]
     },
     "execution_count": 39,
     "metadata": {},
     "output_type": "execute_result"
    },
    {
     "data": {
      "image/png": "[encoded data removed]",
      "text/plain": [
       "<Figure size 432x288 with 1 Axes>"
      ]
     },
     "metadata": {
      "needs_background": "light"
     },
     "output_type": "display_data"
    }
   ],
   "source": [
    "plt.plot([len(u) for u in out1])"
   ]
  },
  {
   "cell_type": "code",
   "execution_count": 545,
   "metadata": {},
   "outputs": [],
   "source": [
    "out2 = run_stepping_stone(n_gen = 3000,K = 100,n_allele = 1,r = .1,alpha = 5,mu = .001)"
   ]
  },
  {
   "cell_type": "code",
   "execution_count": 546,
   "metadata": {},
   "outputs": [
    {
     "data": {
      "text/plain": [
       "[<matplotlib.lines.Line2D at 0x17b6f89c88>,\n",
       " <matplotlib.lines.Line2D at 0x17b7097550>]"
      ]
     },
     "execution_count": 546,
     "metadata": {},
     "output_type": "execute_result"
    },
    {
     "data": {
      "image/png": "[encoded data removed]",
      "text/plain": [
       "<Figure size 432x288 with 1 Axes>"
      ]
     },
     "metadata": {
      "needs_background": "light"
     },
     "output_type": "display_data"
    }
   ],
   "source": [
    "stand = odeint(standing_wave,[1,-(2*2**.5)/100],np.arange(70),args=(2*2**.5,1))[:,0]\n",
    "w_0 = (500*stand).astype(int)\n",
    "w_0 = w_0[w_0>1]\n",
    "plt.plot(w_0)\n",
    "plt.plot(out2[-1])"
   ]
  },
  {
   "cell_type": "code",
   "execution_count": 541,
   "metadata": {},
   "outputs": [
    {
     "data": {
      "text/plain": [
       "0.005656"
      ]
     },
     "execution_count": 541,
     "metadata": {},
     "output_type": "execute_result"
    }
   ],
   "source": [
    "(2* 1.414)/500"
   ]
  },
  {
   "cell_type": "code",
   "execution_count": 150,
   "metadata": {},
   "outputs": [],
   "source": [
    "K=500\n",
    "n_allele=1\n",
    "\n",
    "L_empty= np.append([K],np.zeros(n_allele,dtype=int))\n"
   ]
  },
  {
   "cell_type": "code",
   "execution_count": 155,
   "metadata": {},
   "outputs": [
    {
     "data": {
      "text/plain": [
       "array([[126, 374],\n",
       "       [191, 309],\n",
       "       [228, 272],\n",
       "       [276, 224],\n",
       "       [290, 210],\n",
       "       [315, 185],\n",
       "       [337, 163],\n",
       "       [360, 140],\n",
       "       [375, 125],\n",
       "       [388, 112],\n",
       "       [402,  98],\n",
       "       [420,  80],\n",
       "       [438,  62],\n",
       "       [444,  56],\n",
       "       [447,  53],\n",
       "       [464,  36],\n",
       "       [467,  33],\n",
       "       [474,  26],\n",
       "       [481,  19],\n",
       "       [483,  17],\n",
       "       [487,  13],\n",
       "       [489,  11],\n",
       "       [493,   7],\n",
       "       [495,   5],\n",
       "       [497,   3],\n",
       "       [495,   5],\n",
       "       [497,   3],\n",
       "       [498,   2],\n",
       "       [499,   1],\n",
       "       [500,   0]])"
      ]
     },
     "execution_count": 155,
     "metadata": {},
     "output_type": "execute_result"
    }
   ],
   "source": [
    "np.append(out[300],[L_empty],axis=0)\n",
    "          "
   ]
  },
  {
   "cell_type": "code",
   "execution_count": 485,
   "metadata": {},
   "outputs": [],
   "source": [
    "stand = odeint(standing_wave,[1,-.1*r**2],np.arange(50),args=(1,r))[:,0]"
   ]
  },
  {
   "cell_type": "code",
   "execution_count": 486,
   "metadata": {},
   "outputs": [
    {
     "data": {
      "text/plain": [
       "[<matplotlib.lines.Line2D at 0x15cbcfc710>]"
      ]
     },
     "execution_count": 486,
     "metadata": {},
     "output_type": "execute_result"
    },
    {
     "data": {
      "image/png": "[encoded data removed]",
      "text/plain": [
       "<Figure size 432x288 with 1 Axes>"
      ]
     },
     "metadata": {
      "needs_background": "light"
     },
     "output_type": "display_data"
    }
   ],
   "source": [
    "plt.plot(stand)"
   ]
  },
  {
   "cell_type": "code",
   "execution_count": 482,
   "metadata": {},
   "outputs": [],
   "source": [
    "n_gen=1000\n",
    "K=100\n",
    "n_allele=3\n",
    "r=.1\n",
    "alpha=2\n",
    "mu=.001\n",
    "L_h = run_stepping_stone(n_gen,K,n_allele,r,alpha,mu)"
   ]
  },
  {
   "cell_type": "code",
   "execution_count": 483,
   "metadata": {},
   "outputs": [
    {
     "data": {
      "text/plain": [
       "[<matplotlib.lines.Line2D at 0x15cc0afcc0>,\n",
       " <matplotlib.lines.Line2D at 0x15cc0afe10>,\n",
       " <matplotlib.lines.Line2D at 0x15cc0aff60>,\n",
       " <matplotlib.lines.Line2D at 0x15cc0bc0f0>]"
      ]
     },
     "execution_count": 483,
     "metadata": {},
     "output_type": "execute_result"
    },
    {
     "data": {
      "image/png": "[encoded data removed]",
      "text/plain": [
       "<Figure size 432x288 with 1 Axes>"
      ]
     },
     "metadata": {
      "needs_background": "light"
     },
     "output_type": "display_data"
    }
   ],
   "source": [
    "plt.plot(L_h[-1])"
   ]
  },
  {
   "cell_type": "code",
   "execution_count": 15,
   "metadata": {},
   "outputs": [],
   "source": [
    "def fix_time_2allele(K,r,alpha,mu,thresh):\n",
    "    func_args = [K,n_allele,r,alpha,mu]\n",
    "    ##initialize probability matrix\n",
    "    P = np.ones((n_allele+1,n_allele+1))\n",
    "    P[0,1:] = 1-r*(alpha**np.arange(n_allele))\n",
    "    \n",
    "    stand = odeint(standing_wave,[1,-r**.5],np.arange(70),args=(1,r))[:,0]\n",
    "    w_0 = (K*stand).astype(int)\n",
    "    w_0 = w_0[w_0>1]\n",
    "    \n",
    "    ##initialize array\n",
    "    L_empty= np.append([K],np.zeros(n_allele,dtype=int))\n",
    "    L0 = np.zeros((len(w_0),n_allele+1),dtype=int)\n",
    "    L0[:,1] = w_0\n",
    "    L0[:,0] = K-w_0\n",
    "    L= np.append(L0,[L_empty],axis=0)\n",
    " \n",
    "\n",
    "    #begin evolution\n",
    "    fixed=False\n",
    "    fixed_hist=[]\n",
    "    est_hist=[]\n",
    "    t = 0\n",
    "    while not fixed:\n",
    "        L = update(L,L_empty,P,*func_args)\n",
    "        fix_bools = L[:,1]< int(thresh*K)\n",
    "        est_bools = L[:,2]> int(1/(r*alpha))\n",
    "        fixed= all(fix_bools)\n",
    "        if any(fix_bools):\n",
    "            fixed_hist.append(fix_bools)\n",
    "            \n",
    "        if any(est_bools):\n",
    "            est_hist.append(est_bools)\n",
    "        t+=1\n",
    "\n",
    "    return fixed_hist,est_hist,L"
   ]
  },
  {
   "cell_type": "code",
   "execution_count": 35,
   "metadata": {},
   "outputs": [
    {
     "ename": "FileNotFoundError",
     "evalue": "[Errno 2] No such file or directory: 'start/two_allele_data_2019-12-08 20:03:00.412718.npy'",
     "output_type": "error",
     "traceback": [
      "\u001b[0;31m---------------------------------------------------------------------------\u001b[0m",
      "\u001b[0;31mFileNotFoundError\u001b[0m                         Traceback (most recent call last)",
      "\u001b[0;32m<ipython-input-35-5dd95285160a>\u001b[0m in \u001b[0;36m<module>\u001b[0;34m()\u001b[0m\n\u001b[1;32m     19\u001b[0m \u001b[0;34m\u001b[0m\u001b[0m\n\u001b[1;32m     20\u001b[0m \u001b[0;34m\u001b[0m\u001b[0m\n\u001b[0;32m---> 21\u001b[0;31m     \u001b[0mnp\u001b[0m\u001b[0;34m.\u001b[0m\u001b[0msave\u001b[0m\u001b[0;34m(\u001b[0m\u001b[0;34m'start/two_allele_data_%s.npy'\u001b[0m \u001b[0;34m%\u001b[0m \u001b[0mstart\u001b[0m\u001b[0;34m,\u001b[0m\u001b[0mnp\u001b[0m\u001b[0;34m.\u001b[0m\u001b[0marray\u001b[0m\u001b[0;34m(\u001b[0m\u001b[0;34m[\u001b[0m\u001b[0mresults\u001b[0m\u001b[0;34m,\u001b[0m\u001b[0mparams_out\u001b[0m\u001b[0;34m]\u001b[0m\u001b[0;34m)\u001b[0m\u001b[0;34m)\u001b[0m\u001b[0;34m\u001b[0m\u001b[0m\n\u001b[0m\u001b[1;32m     22\u001b[0m \u001b[0mnp\u001b[0m\u001b[0;34m.\u001b[0m\u001b[0msave\u001b[0m\u001b[0;34m(\u001b[0m\u001b[0;34m'start/two_allele_data_%s.npy'\u001b[0m \u001b[0;34m%\u001b[0m \u001b[0mstart\u001b[0m\u001b[0;34m,\u001b[0m\u001b[0mnp\u001b[0m\u001b[0;34m.\u001b[0m\u001b[0marray\u001b[0m\u001b[0;34m(\u001b[0m\u001b[0;34m[\u001b[0m\u001b[0mresults\u001b[0m\u001b[0;34m,\u001b[0m\u001b[0mparams_out\u001b[0m\u001b[0;34m]\u001b[0m\u001b[0;34m)\u001b[0m\u001b[0;34m)\u001b[0m\u001b[0;34m\u001b[0m\u001b[0m\n",
      "\u001b[0;32m~/anaconda3/lib/python3.7/site-packages/numpy/lib/npyio.py\u001b[0m in \u001b[0;36msave\u001b[0;34m(file, arr, allow_pickle, fix_imports)\u001b[0m\n\u001b[1;32m    500\u001b[0m         \u001b[0;32mif\u001b[0m \u001b[0;32mnot\u001b[0m \u001b[0mfile\u001b[0m\u001b[0;34m.\u001b[0m\u001b[0mendswith\u001b[0m\u001b[0;34m(\u001b[0m\u001b[0;34m'.npy'\u001b[0m\u001b[0;34m)\u001b[0m\u001b[0;34m:\u001b[0m\u001b[0;34m\u001b[0m\u001b[0m\n\u001b[1;32m    501\u001b[0m             \u001b[0mfile\u001b[0m \u001b[0;34m=\u001b[0m \u001b[0mfile\u001b[0m \u001b[0;34m+\u001b[0m \u001b[0;34m'.npy'\u001b[0m\u001b[0;34m\u001b[0m\u001b[0m\n\u001b[0;32m--> 502\u001b[0;31m         \u001b[0mfid\u001b[0m \u001b[0;34m=\u001b[0m \u001b[0mopen\u001b[0m\u001b[0;34m(\u001b[0m\u001b[0mfile\u001b[0m\u001b[0;34m,\u001b[0m \u001b[0;34m\"wb\"\u001b[0m\u001b[0;34m)\u001b[0m\u001b[0;34m\u001b[0m\u001b[0m\n\u001b[0m\u001b[1;32m    503\u001b[0m         \u001b[0mown_fid\u001b[0m \u001b[0;34m=\u001b[0m \u001b[0;32mTrue\u001b[0m\u001b[0;34m\u001b[0m\u001b[0m\n\u001b[1;32m    504\u001b[0m     \u001b[0;32melif\u001b[0m \u001b[0mis_pathlib_path\u001b[0m\u001b[0;34m(\u001b[0m\u001b[0mfile\u001b[0m\u001b[0;34m)\u001b[0m\u001b[0;34m:\u001b[0m\u001b[0;34m\u001b[0m\u001b[0m\n",
      "\u001b[0;31mFileNotFoundError\u001b[0m: [Errno 2] No such file or directory: 'start/two_allele_data_2019-12-08 20:03:00.412718.npy'"
     ]
    }
   ],
   "source": [
    "import datetime\n",
    "from stepping_stone_funcs import*\n",
    "start = datetime.datetime.now()\n",
    "K_space = np.array([500,1000])\n",
    "mu_space = np.array([.001,.005])\n",
    "alphas = np.array([2,5])\n",
    "\n",
    "params_out = ['K='+str(K_space),'mu='+str(mu_space),'alphas='+str(alphas) ],\n",
    "\n",
    "r=.1\n",
    "\n",
    "results = []\n",
    "product(K_space,mu_space, alphas)\n",
    "for K,mu,a in product(K_space,mu_space, alphas):\n",
    "    fix,exp,L = fix_time_2allele(K,r,a,mu,3/K)\n",
    "    results.append([fix,exp,L])\n",
    "    \n",
    "    \n",
    "    \n",
    "    \n",
    "    np.save('$s/two_allele_data_%s.npy' % start,np.array([results,params_out]))\n",
    "np.save('/start/two_allele_data_%s.npy' % start,np.array([results,params_out]))\n"
   ]
  },
  {
   "cell_type": "code",
   "execution_count": 37,
   "metadata": {},
   "outputs": [],
   "source": [
    "np.save('wo_allele_data_%s.npy' % start,np.array([results,params_out]))"
   ]
  },
  {
   "cell_type": "code",
   "execution_count": 1221,
   "metadata": {},
   "outputs": [],
   "source": [
    "K=1000\n",
    "n_allele=2\n",
    "r=.1\n",
    "alpha=5\n",
    "mu=.001\n",
    "\n",
    "fix,est,L = fix_time_2allele(K,r,alpha,mu,thresh=.001)"
   ]
  },
  {
   "cell_type": "code",
   "execution_count": 573,
   "metadata": {},
   "outputs": [],
   "source": [
    "def fix_time(K,n_allele,r,alpha,mu,thresh, track):\n",
    "    func_args = [K,n_allele,r,alpha,mu]\n",
    "    ##initialize probability matrix\n",
    "    P = np.ones((n_allele+1,n_allele+1))\n",
    "    P[0,1:] = 1-r*(alpha**np.arange(n_allele))\n",
    "    \n",
    "    L,L_empty = initialize(*func_args)\n",
    "    L_history=[L]\n",
    "    #begin evolution\n",
    "    fixed=False\n",
    "    t = 0\n",
    "    if track:\n",
    "        fix_times = np.zeros(len(L))\n",
    "        est_times = np.zeros(len(L))\n",
    "        fb_1, eb_1 = (np.zeros(len(L)) == 1),(np.zeros(len(L)) == 1) \n",
    "    while not fixed:\n",
    "        L = update(L,L_empty,P,*func_args)\n",
    "        L = recenter(L,L_empty,K)\n",
    "        fix_bools = L[:,1] < int(thresh*K)\n",
    "        est_bools = L[:,2] > int(1/(r*alpha))\n",
    "        fixed= all(fix_bools)\n",
    "        if track:\n",
    "            fix_times  = [max(i,time) for i, time in zip((fix_bools^fb_1)*t,fix_times)]\n",
    "            est_times  = [max(i,time) for i, time in zip((est_bools^eb_1)*t,est_times)]\n",
    "            fb_1,eb_1 = fix_bools,est_bools\n",
    "        t+=1\n",
    "    if not track:\n",
    "        return L\n",
    "    else: \n",
    "\n",
    "        fix_times,est_times"
   ]
  },
  {
   "cell_type": "code",
   "execution_count": 574,
   "metadata": {},
   "outputs": [
    {
     "name": "stderr",
     "output_type": "stream",
     "text": [
      "\n",
      "0it [00:00, ?it/s]\u001b[A"
     ]
    },
    {
     "ename": "TypeError",
     "evalue": "cannot unpack non-iterable NoneType object",
     "output_type": "error",
     "traceback": [
      "\u001b[0;31m---------------------------------------------------------------------------\u001b[0m",
      "\u001b[0;31mTypeError\u001b[0m                                 Traceback (most recent call last)",
      "\u001b[0;32m<ipython-input-574-4c1b690965c1>\u001b[0m in \u001b[0;36m<module>\u001b[0;34m()\u001b[0m\n\u001b[1;32m     12\u001b[0m \u001b[0mproduct\u001b[0m\u001b[0;34m(\u001b[0m\u001b[0mK_space\u001b[0m\u001b[0;34m,\u001b[0m\u001b[0mmu_space\u001b[0m\u001b[0;34m,\u001b[0m \u001b[0malphas\u001b[0m\u001b[0;34m)\u001b[0m\u001b[0;34m\u001b[0m\u001b[0m\n\u001b[1;32m     13\u001b[0m \u001b[0;32mfor\u001b[0m \u001b[0mrep\u001b[0m\u001b[0;34m,\u001b[0m \u001b[0mK\u001b[0m\u001b[0;34m,\u001b[0m\u001b[0mmu\u001b[0m\u001b[0;34m,\u001b[0m\u001b[0ma\u001b[0m \u001b[0;32min\u001b[0m \u001b[0mtqdm\u001b[0m\u001b[0;34m(\u001b[0m\u001b[0mproduct\u001b[0m\u001b[0;34m(\u001b[0m\u001b[0mrange\u001b[0m\u001b[0;34m(\u001b[0m\u001b[0mreps\u001b[0m\u001b[0;34m)\u001b[0m\u001b[0;34m,\u001b[0m \u001b[0mK_space\u001b[0m\u001b[0;34m,\u001b[0m\u001b[0mmu_space\u001b[0m\u001b[0;34m,\u001b[0m \u001b[0malphas\u001b[0m\u001b[0;34m)\u001b[0m\u001b[0;34m)\u001b[0m\u001b[0;34m:\u001b[0m\u001b[0;34m\u001b[0m\u001b[0m\n\u001b[0;32m---> 14\u001b[0;31m     \u001b[0mf\u001b[0m\u001b[0;34m,\u001b[0m\u001b[0me\u001b[0m \u001b[0;34m=\u001b[0m \u001b[0mfix_time\u001b[0m\u001b[0;34m(\u001b[0m\u001b[0mK\u001b[0m\u001b[0;34m,\u001b[0m\u001b[0;36m2\u001b[0m\u001b[0;34m,\u001b[0m\u001b[0mr\u001b[0m\u001b[0;34m,\u001b[0m\u001b[0ma\u001b[0m\u001b[0;34m,\u001b[0m\u001b[0mmu\u001b[0m\u001b[0;34m,\u001b[0m\u001b[0;36m3\u001b[0m\u001b[0;34m/\u001b[0m\u001b[0mK\u001b[0m\u001b[0;34m,\u001b[0m \u001b[0;32mTrue\u001b[0m\u001b[0;34m)\u001b[0m\u001b[0;34m\u001b[0m\u001b[0m\n\u001b[0m\u001b[1;32m     15\u001b[0m     \u001b[0mresults\u001b[0m\u001b[0;34m.\u001b[0m\u001b[0mappend\u001b[0m\u001b[0;34m(\u001b[0m\u001b[0;34m[\u001b[0m\u001b[0mf\u001b[0m\u001b[0;34m,\u001b[0m\u001b[0me\u001b[0m\u001b[0;34m]\u001b[0m\u001b[0;34m)\u001b[0m\u001b[0;34m\u001b[0m\u001b[0m\n\u001b[1;32m     16\u001b[0m \u001b[0;34m\u001b[0m\u001b[0m\n",
      "\u001b[0;31mTypeError\u001b[0m: cannot unpack non-iterable NoneType object"
     ]
    }
   ],
   "source": [
    "\n",
    "start = datetime.datetime.now()\n",
    "K_space = np.array([100])\n",
    "mu_space = np.array([.001])\n",
    "alphas = np.array([5])\n",
    "\n",
    "params_out = ['K='+str(K_space),'mu='+str(mu_space),'alphas='+str(alphas) ],\n",
    "\n",
    "r=.1\n",
    "\n",
    "results = []\n",
    "product(K_space,mu_space, alphas)\n",
    "for rep, K,mu,a in tqdm(product(range(reps), K_space,mu_space, alphas)):\n",
    "    f,e = fix_time(K,2,r,a,mu,3/K, True)\n",
    "    results.append([f,e])\n",
    "    \n",
    "    \n",
    "    \n",
    "\n",
    "\n",
    "    \n",
    "    \n",
    "  \n",
    "    \n",
    "    \n",
    "    \n",
    "    \n",
    "    \n",
    "            \n",
    "\n",
    "\n"
   ]
  },
  {
   "cell_type": "code",
   "execution_count": 58,
   "metadata": {},
   "outputs": [
    {
     "data": {
      "text/plain": [
       "[array([108712, 108813, 108133, 101828,  92279,  92238,  85485,  84096,\n",
       "         83175,  82505,  81714,  78785,  76247,  76241,  76160,  75756,\n",
       "         75535,  72066,  69764,  71064,  71738,  71020,  65792,  62630,\n",
       "         63761,  61423,  58831,  60079,      0,      0,      0,      0,\n",
       "             0]),\n",
       " array([ 17029,  16329,  23658,  25264,  31096,  34508,  37436,  37313,\n",
       "         40182,  36506,  39896,  36886,  33707,  31493,  90466,  89726,\n",
       "         91920,  93218,  96217, 108310, 102083, 101828,  85485,  79431,\n",
       "         80943,  76160,  76160,  75756,  72169,  72066,  65792,  65337,\n",
       "         65078]),\n",
       " array([[  6,   2,  92],\n",
       "        [  3,   2,  95],\n",
       "        [  4,   1,  95],\n",
       "        [  6,   0,  94],\n",
       "        [ 10,   0,  90],\n",
       "        [  8,   0,  92],\n",
       "        [ 16,   0,  84],\n",
       "        [ 17,   0,  83],\n",
       "        [ 22,   0,  78],\n",
       "        [ 30,   0,  70],\n",
       "        [ 55,   0,  45],\n",
       "        [ 55,   0,  45],\n",
       "        [ 55,   0,  45],\n",
       "        [ 79,   0,  21],\n",
       "        [ 87,   0,  13],\n",
       "        [ 83,   0,  17],\n",
       "        [ 82,   0,  18],\n",
       "        [ 84,   0,  16],\n",
       "        [ 97,   0,   3],\n",
       "        [ 96,   0,   4],\n",
       "        [ 98,   0,   2],\n",
       "        [ 99,   0,   1],\n",
       "        [100,   0,   0],\n",
       "        [100,   0,   0],\n",
       "        [100,   0,   0],\n",
       "        [100,   0,   0],\n",
       "        [100,   0,   0],\n",
       "        [100,   0,   0],\n",
       "        [100,   0,   0],\n",
       "        [100,   0,   0],\n",
       "        [100,   0,   0],\n",
       "        [100,   0,   0],\n",
       "        [100,   0,   0]])]"
      ]
     },
     "execution_count": 58,
     "metadata": {},
     "output_type": "execute_result"
    }
   ],
   "source": [
    "results[0]"
   ]
  },
  {
   "cell_type": "code",
   "execution_count": 563,
   "metadata": {},
   "outputs": [],
   "source": [
    " newest_two = max(glob.iglob('t*.npy'), key=os.path.getctime)"
   ]
  },
  {
   "cell_type": "code",
   "execution_count": 555,
   "metadata": {},
   "outputs": [],
   "source": [
    " newest_mult = max(glob.iglob('m*.npy'), key=os.path.getctime)"
   ]
  },
  {
   "cell_type": "code",
   "execution_count": 556,
   "metadata": {},
   "outputs": [
    {
     "data": {
      "text/plain": [
       "'multi_allele_data_2019-12-15 18:45:27.379389.npy'"
      ]
     },
     "execution_count": 556,
     "metadata": {},
     "output_type": "execute_result"
    }
   ],
   "source": [
    "newest_mult"
   ]
  },
  {
   "cell_type": "code",
   "execution_count": 564,
   "metadata": {},
   "outputs": [],
   "source": [
    "data = np.load(newest_two)"
   ]
  },
  {
   "cell_type": "code",
   "execution_count": 565,
   "metadata": {},
   "outputs": [
    {
     "ename": "ValueError",
     "evalue": "cannot reshape array of size 7 into shape (5,2,2,2,2)",
     "output_type": "error",
     "traceback": [
      "\u001b[0;31m---------------------------------------------------------------------------\u001b[0m",
      "\u001b[0;31mValueError\u001b[0m                                Traceback (most recent call last)",
      "\u001b[0;32m<ipython-input-565-3b2640c8cbb7>\u001b[0m in \u001b[0;36m<module>\u001b[0;34m()\u001b[0m\n\u001b[0;32m----> 1\u001b[0;31m \u001b[0mdata\u001b[0m\u001b[0;34m=\u001b[0m\u001b[0mnp\u001b[0m\u001b[0;34m.\u001b[0m\u001b[0marray\u001b[0m\u001b[0;34m(\u001b[0m\u001b[0mdata\u001b[0m\u001b[0;34m[\u001b[0m\u001b[0;36m0\u001b[0m\u001b[0;34m]\u001b[0m\u001b[0;34m)\u001b[0m\u001b[0;34m.\u001b[0m\u001b[0mreshape\u001b[0m\u001b[0;34m(\u001b[0m\u001b[0;36m5\u001b[0m\u001b[0;34m,\u001b[0m\u001b[0;36m2\u001b[0m\u001b[0;34m,\u001b[0m\u001b[0;36m2\u001b[0m\u001b[0;34m,\u001b[0m\u001b[0;36m2\u001b[0m\u001b[0;34m,\u001b[0m\u001b[0;36m2\u001b[0m\u001b[0;34m)\u001b[0m\u001b[0;34m\u001b[0m\u001b[0m\n\u001b[0m",
      "\u001b[0;31mValueError\u001b[0m: cannot reshape array of size 7 into shape (5,2,2,2,2)"
     ]
    }
   ],
   "source": [
    "data=np.array(data[0]).reshape(5,2,2,2,2)"
   ]
  },
  {
   "cell_type": "code",
   "execution_count": 566,
   "metadata": {},
   "outputs": [
    {
     "ename": "IndexError",
     "evalue": "too many indices for array",
     "output_type": "error",
     "traceback": [
      "\u001b[0;31m---------------------------------------------------------------------------\u001b[0m",
      "\u001b[0;31mIndexError\u001b[0m                                Traceback (most recent call last)",
      "\u001b[0;32m<ipython-input-566-80f6d76089b9>\u001b[0m in \u001b[0;36m<module>\u001b[0;34m()\u001b[0m\n\u001b[0;32m----> 1\u001b[0;31m \u001b[0mdata\u001b[0m\u001b[0;34m[\u001b[0m\u001b[0;36m4\u001b[0m\u001b[0;34m,\u001b[0m\u001b[0;36m1\u001b[0m\u001b[0;34m,\u001b[0m\u001b[0;36m1\u001b[0m\u001b[0;34m,\u001b[0m\u001b[0;36m1\u001b[0m\u001b[0;34m,\u001b[0m\u001b[0;36m1\u001b[0m\u001b[0;34m]\u001b[0m\u001b[0;34m\u001b[0m\u001b[0m\n\u001b[0m",
      "\u001b[0;31mIndexError\u001b[0m: too many indices for array"
     ]
    }
   ],
   "source": [
    "data[4,1,1,1,1]"
   ]
  },
  {
   "cell_type": "code",
   "execution_count": 199,
   "metadata": {},
   "outputs": [
    {
     "data": {
      "text/plain": [
       "array([597697, 596879, 596481, 598734, 599524, 596864, 595428, 590712,\n",
       "       589717, 583326, 580909, 575037, 573288, 576084, 554873, 555615,\n",
       "       554959, 554873, 537452, 535794, 535779, 532046, 532281, 525545,\n",
       "       417080, 413783, 411134, 407941, 406519, 404372, 404007, 404064,\n",
       "       253432])"
      ]
     },
     "execution_count": 199,
     "metadata": {},
     "output_type": "execute_result"
    }
   ],
   "source": [
    "data[4,0,0,0,0]"
   ]
  },
  {
   "cell_type": "code",
   "execution_count": 201,
   "metadata": {},
   "outputs": [
    {
     "data": {
      "text/plain": [
       "[<matplotlib.lines.Line2D at 0x152177ab70>]"
      ]
     },
     "execution_count": 201,
     "metadata": {},
     "output_type": "execute_result"
    },
    {
     "data": {
      "image/png": "[encoded data removed]",
      "text/plain": [
       "<Figure size 432x288 with 1 Axes>"
      ]
     },
     "metadata": {
      "needs_background": "light"
     },
     "output_type": "display_data"
    }
   ],
   "source": [
    "plt.plot(data[1,0,0,0,0])"
   ]
  },
  {
   "cell_type": "code",
   "execution_count": 228,
   "metadata": {},
   "outputs": [
    {
     "data": {
      "text/plain": [
       "[<matplotlib.lines.Line2D at 0x1521ea7da0>]"
      ]
     },
     "execution_count": 228,
     "metadata": {},
     "output_type": "execute_result"
    },
    {
     "data": {
      "image/png": "[encoded data removed]",
      "text/plain": [
       "<Figure size 432x288 with 1 Axes>"
      ]
     },
     "metadata": {
      "needs_background": "light"
     },
     "output_type": "display_data"
    }
   ],
   "source": [
    "plt.plot(np.mean(data[:,1,1,1,0],axis=0)/(500*1000))\n",
    "plt.plot(np.arange(len(np.mean(data[:,1,1,1,0],axis=0)))[::-1]/(2*(5**2-1)))"
   ]
  },
  {
   "cell_type": "code",
   "execution_count": 150,
   "metadata": {},
   "outputs": [
    {
     "data": {
      "text/plain": [
       "array([254593, 256908, 259315, 260013, 258703, 258266, 248614, 234790,\n",
       "       234103, 233220, 232981, 231929, 229642, 229529, 225482, 219859,\n",
       "       219063, 218708, 213503, 209350, 185452, 181363, 177553, 162926,\n",
       "       161639, 157355, 155997, 155830, 151426, 145486, 140696,      0,\n",
       "            0])"
      ]
     },
     "execution_count": 150,
     "metadata": {},
     "output_type": "execute_result"
    }
   ],
   "source": [
    "data[0,0,0,0]"
   ]
  },
  {
   "cell_type": "code",
   "execution_count": 168,
   "metadata": {},
   "outputs": [
    {
     "data": {
      "text/plain": [
       "[<matplotlib.lines.Line2D at 0x15216a0b38>]"
      ]
     },
     "execution_count": 168,
     "metadata": {},
     "output_type": "execute_result"
    },
    {
     "data": {
      "image/png": "[encoded data removed]",
      "text/plain": [
       "<Figure size 432x288 with 1 Axes>"
      ]
     },
     "metadata": {
      "needs_background": "light"
     },
     "output_type": "display_data"
    }
   ],
   "source": [
    "hi=data[0,1,0,0]\n",
    "plt.plot(hi[:-5])\n",
    "\n",
    "plt.plot(100000*(np.arange(len(hi[:-5]))[::-1]/(2*(3)**2 -2))+hi[-6])"
   ]
  },
  {
   "cell_type": "code",
   "execution_count": 44,
   "metadata": {},
   "outputs": [
    {
     "data": {
      "text/plain": [
       "array([[  4,   2,  93,   1,   0,   0,   0,   0,   0,   0,   0],\n",
       "       [  1,   2,  90,   7,   0,   0,   0,   0,   0,   0,   0],\n",
       "       [  1,   0,  92,   6,   1,   0,   0,   0,   0,   0,   0],\n",
       "       [  5,   0,  87,   8,   0,   0,   0,   0,   0,   0,   0],\n",
       "       [  6,   0,  80,  14,   0,   0,   0,   0,   0,   0,   0],\n",
       "       [  8,   0,  74,  18,   0,   0,   0,   0,   0,   0,   0],\n",
       "       [  7,   0,  74,  19,   0,   0,   0,   0,   0,   0,   0],\n",
       "       [  8,   0,  70,  22,   0,   0,   0,   0,   0,   0,   0],\n",
       "       [ 11,   0,  77,  12,   0,   0,   0,   0,   0,   0,   0],\n",
       "       [ 24,   0,  53,  23,   0,   0,   0,   0,   0,   0,   0],\n",
       "       [ 30,   0,  52,  18,   0,   0,   0,   0,   0,   0,   0],\n",
       "       [ 40,   0,  44,  16,   0,   0,   0,   0,   0,   0,   0],\n",
       "       [ 58,   0,  29,  13,   0,   0,   0,   0,   0,   0,   0],\n",
       "       [ 69,   0,  18,  13,   0,   0,   0,   0,   0,   0,   0],\n",
       "       [ 71,   0,  22,   7,   0,   0,   0,   0,   0,   0,   0],\n",
       "       [ 83,   0,  13,   4,   0,   0,   0,   0,   0,   0,   0],\n",
       "       [ 83,   0,  15,   2,   0,   0,   0,   0,   0,   0,   0],\n",
       "       [ 78,   0,  21,   1,   0,   0,   0,   0,   0,   0,   0],\n",
       "       [ 86,   0,  14,   0,   0,   0,   0,   0,   0,   0,   0],\n",
       "       [ 82,   0,  18,   0,   0,   0,   0,   0,   0,   0,   0],\n",
       "       [ 94,   0,   6,   0,   0,   0,   0,   0,   0,   0,   0],\n",
       "       [ 87,   0,  13,   0,   0,   0,   0,   0,   0,   0,   0],\n",
       "       [ 92,   0,   8,   0,   0,   0,   0,   0,   0,   0,   0],\n",
       "       [ 84,   0,  16,   0,   0,   0,   0,   0,   0,   0,   0],\n",
       "       [ 94,   0,   6,   0,   0,   0,   0,   0,   0,   0,   0],\n",
       "       [ 98,   0,   2,   0,   0,   0,   0,   0,   0,   0,   0],\n",
       "       [100,   0,   0,   0,   0,   0,   0,   0,   0,   0,   0],\n",
       "       [100,   0,   0,   0,   0,   0,   0,   0,   0,   0,   0],\n",
       "       [ 98,   0,   2,   0,   0,   0,   0,   0,   0,   0,   0],\n",
       "       [100,   0,   0,   0,   0,   0,   0,   0,   0,   0,   0],\n",
       "       [100,   0,   0,   0,   0,   0,   0,   0,   0,   0,   0]])"
      ]
     },
     "execution_count": 44,
     "metadata": {},
     "output_type": "execute_result"
    }
   ],
   "source": [
    "data[0,0,0]"
   ]
  },
  {
   "cell_type": "code",
   "execution_count": 85,
   "metadata": {},
   "outputs": [
    {
     "data": {
      "text/plain": [
       "[<matplotlib.lines.Line2D at 0x1533a4c048>]"
      ]
     },
     "execution_count": 85,
     "metadata": {},
     "output_type": "execute_result"
    },
    {
     "data": {
      "image/png": "[encoded data removed]",
      "text/plain": [
       "<Figure size 432x288 with 1 Axes>"
      ]
     },
     "metadata": {
      "needs_background": "light"
     },
     "output_type": "display_data"
    }
   ],
   "source": [
    "plt.plot(lens)"
   ]
  },
  {
   "cell_type": "code",
   "execution_count": 75,
   "metadata": {},
   "outputs": [
    {
     "data": {
      "text/plain": [
       "array([     0.,      0.,      0.,      0., 121433., 122753., 123115.,\n",
       "       123890., 119972., 129190., 132678., 132678., 132678., 132678.,\n",
       "       132678., 132678., 132678., 132678., 132678., 132678., 132678.,\n",
       "       132678., 132678., 132678., 132678., 132678., 132678., 132678.,\n",
       "       132678., 132678., 132678., 132678., 132678.])"
      ]
     },
     "execution_count": 75,
     "metadata": {},
     "output_type": "execute_result"
    }
   ],
   "source": []
  },
  {
   "cell_type": "code",
   "execution_count": 78,
   "metadata": {},
   "outputs": [
    {
     "data": {
      "text/plain": [
       "array([  0,   0,   0,   0,   0,   0,   0,   0,   0,   0,   0,   0,   0,\n",
       "         0,   0,   0,   0,   0,   0,   0,   0,   0,   0,   0,   0,   0,\n",
       "         0,   0,   0, 100, 100, 100, 100])"
      ]
     },
     "execution_count": 78,
     "metadata": {},
     "output_type": "execute_result"
    }
   ],
   "source": [
    "pad_data[100]"
   ]
  },
  {
   "cell_type": "code",
   "execution_count": 54,
   "metadata": {},
   "outputs": [
    {
     "data": {
      "text/plain": [
       "array([False, False, False, False, False, False, False, False, False,\n",
       "       False, False, False, False, False, False, False, False, False,\n",
       "       False, False,  True,  True,  True])"
      ]
     },
     "execution_count": 54,
     "metadata": {},
     "output_type": "execute_result"
    }
   ],
   "source": [
    " data[0,0,0,0][0]"
   ]
  },
  {
   "cell_type": "code",
   "execution_count": 55,
   "metadata": {},
   "outputs": [
    {
     "data": {
      "text/plain": [
       "[False, False, False, False]"
      ]
     },
     "execution_count": 55,
     "metadata": {},
     "output_type": "execute_result"
    }
   ],
   "source": [
    "[False]*4"
   ]
  },
  {
   "cell_type": "code",
   "execution_count": 79,
   "metadata": {},
   "outputs": [],
   "source": [
    "s=.1\n",
    "r=.5\n",
    "m=.1\n",
    "K=1000\n",
    "se = .5*s*m*np.log(2/m) / r\n",
    "p = (np.exp(-2*se)-1)/ (np.exp(-4*se*K)-1)"
   ]
  },
  {
   "cell_type": "code",
   "execution_count": 80,
   "metadata": {},
   "outputs": [
    {
     "data": {
      "text/plain": [
       "0.058155079116972264"
      ]
     },
     "execution_count": 80,
     "metadata": {},
     "output_type": "execute_result"
    }
   ],
   "source": [
    "p"
   ]
  },
  {
   "cell_type": "code",
   "execution_count": null,
   "metadata": {},
   "outputs": [],
   "source": []
  }
 ],
 "metadata": {
  "kernelspec": {
   "display_name": "Python 3",
   "language": "python",
   "name": "python3"
  },
  "language_info": {
   "codemirror_mode": {
    "name": "ipython",
    "version": 3
   },
   "file_extension": ".py",
   "mimetype": "text/x-python",
   "name": "python",
   "nbconvert_exporter": "python",
   "pygments_lexer": "ipython3",
   "version": "3.7.2"
  }
 },
 "nbformat": 4,
 "nbformat_minor": 2
}
