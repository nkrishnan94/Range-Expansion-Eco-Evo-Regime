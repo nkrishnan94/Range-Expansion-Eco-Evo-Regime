{
 "cells": [
  {
   "cell_type": "code",
   "execution_count": 938,
   "metadata": {},
   "outputs": [],
   "source": [
    "import numpy as np\n",
    "from numpy.random import choice\n",
    "import random\n",
    "import matplotlib.pyplot as plt\n",
    "from scipy.integrate import odeint"
   ]
  },
  {
   "cell_type": "code",
   "execution_count": null,
   "metadata": {},
   "outputs": [],
   "source": [
    "##standing wave solution of Fisher wave\n",
    "def standing_wave(y0,x,D,rw):\n",
    "    w = y0[0]      ##initial value for wave profile at x =0, i.e. w(x=0)\n",
    "    z = y0[1]      ##initial value for rate of change of profile w.r.t. position x , at x=0 i.e. dw/dx(x=0)\n",
    "    dwdx = z\n",
    "    dzdx =(-2*((rw*D)**.5)*dwdx -w*rw*(1-w))/D\n",
    "    \n",
    "    return [dwdx,dzdx]"
   ]
  },
  {
   "cell_type": "code",
   "execution_count": 1110,
   "metadata": {},
   "outputs": [],
   "source": [
    "def rand_neighbors(demes):\n",
    "    ind_1 = np.random.choice(demes)\n",
    "    left = demes[:ind_1][-1:]\n",
    "    right = demes[ind_1:][1:2]\n",
    "    neighb = np.append(left,right).flatten()\n",
    "    ind_2=choice(neighb)\n",
    "    neigh = [ind_1,ind_2]\n",
    "    neigh.sort()\n",
    "    return np.array(neigh)\n",
    "\n",
    "\n",
    "def counts_to_cells(counts,n_allele):\n",
    "    cells = np.repeat(np.arange(n_allele+1),counts)\n",
    "    return cells\n",
    "    \n",
    "def cells_to_counts(cells,n_allele):\n",
    "    counts = np.bincount(cells, minlength=n_allele+1)\n",
    "    return counts\n",
    "    \n",
    "    \n",
    "def migration(cells,K):\n",
    "    cells_1 = cells[0]\n",
    "    cells_2 = cells[1]\n",
    "    pick_ind=choice(np.arange(K),2,replace= True)\n",
    "    picks = np.array([np.arange(K) == pick_ind[i] for i in [0,1]])\n",
    "    keep =  ~picks\n",
    "    cells_1 = np.append(cells_1[keep[0]], cells_2[picks[1]])\n",
    "    cells_2 = np.append(cells_2[keep[1]], cells_1[picks[0]])\n",
    "    return np.array([cells_1,cells_2])\n",
    "\n",
    "\n",
    "def duplication(cells,K,P):\n",
    "    pick_ind=choice(np.arange(K),2,replace= False)\n",
    "    picks = np.array([np.arange(K) == pick_ind[i] for i in [0,1]])\n",
    "    r= np.random.random()\n",
    "    if P[tuple(cells[pick_ind])]> r:\n",
    "        cells[pick_ind[1]] =cells[pick_ind[0]]\n",
    "    return cells\n",
    "    \n",
    "    \n",
    "def mutation(cells,mu,K,n_allele):\n",
    "    pick_ind=choice(np.arange(K))\n",
    "    r= np.random.random()\n",
    "    if mu>r:\n",
    "        if cells[pick_ind] != n_allele and cells[pick_ind] !=0:\n",
    "            cells[pick_ind] = cells[pick_ind] +1\n",
    "    return cells\n",
    "    "
   ]
  },
  {
   "cell_type": "code",
   "execution_count": 1143,
   "metadata": {},
   "outputs": [],
   "source": [
    "def update(L,L_empty,P,K,n_allele,r,alpha,mu):\n",
    "\n",
    "        demes = np.arange(len(L))\n",
    "        #migration\n",
    "        neighb = rand_neighbors(demes)\n",
    "        cells = np.array(list(map(counts_to_cells, L[neighb],2*[n_allele] )))\n",
    "        cells = migration(cells,K)\n",
    "        counts =  np.array(list(map(cells_to_counts, cells,2*[n_allele] )))\n",
    "        L[neighb] = counts\n",
    "\n",
    "        #duplication\n",
    "        dup_deme = choice(demes)\n",
    "        cells = counts_to_cells(L[dup_deme],n_allele)\n",
    "        cells = duplication(cells,K,P)\n",
    "        counts = cells_to_counts(cells, n_allele)\n",
    "        L[dup_deme] = counts\n",
    "\n",
    "        ##mutation\n",
    "        mut_deme = choice(demes)\n",
    "        cells = counts_to_cells(L[mut_deme],n_allele)\n",
    "        cells = mutation(cells,mu,K,n_allele)\n",
    "        counts = cells_to_counts(cells, n_allele)\n",
    "        L[mut_deme] = counts\n",
    "\n",
    "\n",
    "        ##recenter frame\n",
    "        if L[-1][0]!=K:\n",
    "            L=np.append(L,[L_empty],axis=0)\n",
    "        L=L[(L[:,0]>0)]\n",
    "        return L\n"
   ]
  },
  {
   "cell_type": "code",
   "execution_count": 1200,
   "metadata": {},
   "outputs": [],
   "source": [
    "n_gen=100\n",
    "K=1000\n",
    "n_allele=1\n",
    "r=.1\n",
    "alpha=2\n",
    "mu=.001\n",
    "L_h = run_stepping_stone(n_gen,K,n_allele,r,alpha,mu)\n"
   ]
  },
  {
   "cell_type": "code",
   "execution_count": 1182,
   "metadata": {},
   "outputs": [],
   "source": [
    "def run_stepping_stone(n_gen,K,n_allele,r,alpha,mu):\n",
    "    func_args = [K,n_allele,r,alpha,mu]\n",
    "    ##initialize probability matrix\n",
    "    P = np.ones((n_allele+1,n_allele+1))\n",
    "    P[0,1:] = 1-r*(alpha**np.arange(n_allele))\n",
    "    \n",
    "    stand = odeint(standing_wave,[1,-r**.5],np.arange(70),args=(1,r))[:,0]\n",
    "    w_0 = (K*stand).astype(int)\n",
    "    w_0 = w_0[w_0>1]\n",
    "    \n",
    "    ##initialize array\n",
    "    L_empty= np.append([K],np.zeros(n_allele,dtype=int))\n",
    "    L0 = np.zeros((len(w_0),n_allele+1),dtype=int)\n",
    "    L0[:,1] = w_0\n",
    "    L0[:,0] = K-w_0\n",
    "    L= np.append(L0,[L_empty],axis=0)\n",
    "    L_history=[L]\n",
    "    #begin evolution\n",
    "    for t in range(n_gen):\n",
    "        for dt in range(K):\n",
    "            L_history.append(L)\n",
    "            L = update(L,L_empty,P,*func_args)\n",
    "\n",
    "    return L_history\n"
   ]
  },
  {
   "cell_type": "code",
   "execution_count": 1220,
   "metadata": {},
   "outputs": [],
   "source": [
    "def fix_time_2allele(K,r,alpha,mu,thresh):\n",
    "    func_args = [K,n_allele,r,alpha,mu]\n",
    "    ##initialize probability matrix\n",
    "    P = np.ones((n_allele+1,n_allele+1))\n",
    "    P[0,1:] = 1-r*(alpha**np.arange(n_allele))\n",
    "    \n",
    "    stand = odeint(standing_wave,[1,-r**.5],np.arange(70),args=(1,r))[:,0]\n",
    "    w_0 = (K*stand).astype(int)\n",
    "    w_0 = w_0[w_0>1]\n",
    "    \n",
    "    ##initialize array\n",
    "    L_empty= np.append([K],np.zeros(n_allele,dtype=int))\n",
    "    L0 = np.zeros((len(w_0),n_allele+1),dtype=int)\n",
    "    L0[:,1] = w_0\n",
    "    L0[:,0] = K-w_0\n",
    "    L= np.append(L0,[L_empty],axis=0)\n",
    " \n",
    "\n",
    "    #begin evolution\n",
    "    fixed=False\n",
    "    fixed_hist=[]\n",
    "    est_hist=[]\n",
    "    t = 0\n",
    "    while not fixed:\n",
    "        L = update(L,L_empty,P,*func_args)\n",
    "        fix_bools = L[:,1]< int(thresh*K)\n",
    "        est_bools = L[:,2]> int(1/(r*alpha))\n",
    "        fixed= all(fix_bools)\n",
    "        if any(fix_bools):\n",
    "            fixed_hist.append(fix_bools)\n",
    "            \n",
    "        if any(est_bools):\n",
    "            est_hist.append(est_bools)\n",
    "        t+=1\n",
    "\n",
    "    return fixed_hist,est_hist,L"
   ]
  },
  {
   "cell_type": "code",
   "execution_count": 1221,
   "metadata": {},
   "outputs": [],
   "source": [
    "K=1000\n",
    "n_allele=2\n",
    "r=.1\n",
    "alpha=5\n",
    "mu=.001\n",
    "\n",
    "fix,est,L = fix_time_2allele(K,r,alpha,mu,thresh=.001)"
   ]
  },
  {
   "cell_type": "code",
   "execution_count": 1226,
   "metadata": {},
   "outputs": [
    {
     "data": {
      "text/plain": [
       "array([ True,  True,  True,  True,  True,  True,  True,  True,  True,\n",
       "        True,  True,  True,  True,  True,  True,  True,  True,  True,\n",
       "        True,  True,  True,  True,  True,  True,  True,  True,  True,\n",
       "        True,  True,  True,  True,  True])"
      ]
     },
     "execution_count": 1226,
     "metadata": {},
     "output_type": "execute_result"
    }
   ],
   "source": [
    "fix[-1]"
   ]
  },
  {
   "cell_type": "code",
   "execution_count": 901,
   "metadata": {},
   "outputs": [
    {
     "ename": "KeyboardInterrupt",
     "evalue": "",
     "output_type": "error",
     "traceback": [
      "\u001b[0;31m---------------------------------------------------------------------------\u001b[0m",
      "\u001b[0;31mKeyboardInterrupt\u001b[0m                         Traceback (most recent call last)",
      "\u001b[0;32m<ipython-input-901-e7591a41c863>\u001b[0m in \u001b[0;36m<module>\u001b[0;34m()\u001b[0m\n\u001b[1;32m     22\u001b[0m \u001b[0mt\u001b[0m \u001b[0;34m=\u001b[0m \u001b[0;36m0\u001b[0m\u001b[0;34m\u001b[0m\u001b[0m\n\u001b[1;32m     23\u001b[0m \u001b[0;32mwhile\u001b[0m \u001b[0;32mnot\u001b[0m \u001b[0mfixed\u001b[0m\u001b[0;34m:\u001b[0m\u001b[0;34m\u001b[0m\u001b[0m\n\u001b[0;32m---> 24\u001b[0;31m     \u001b[0mL\u001b[0m \u001b[0;34m=\u001b[0m \u001b[0mupdate\u001b[0m\u001b[0;34m(\u001b[0m\u001b[0mL\u001b[0m\u001b[0;34m,\u001b[0m\u001b[0mL_empty\u001b[0m\u001b[0;34m,\u001b[0m\u001b[0mP\u001b[0m\u001b[0;34m,\u001b[0m\u001b[0;34m*\u001b[0m\u001b[0mfunc_args\u001b[0m\u001b[0;34m)\u001b[0m\u001b[0;34m\u001b[0m\u001b[0m\n\u001b[0m\u001b[1;32m     25\u001b[0m     \u001b[0mfix_bools\u001b[0m \u001b[0;34m=\u001b[0m \u001b[0mL\u001b[0m\u001b[0;34m[\u001b[0m\u001b[0;34m:\u001b[0m\u001b[0;34m,\u001b[0m\u001b[0;36m1\u001b[0m\u001b[0;34m]\u001b[0m\u001b[0;34m<\u001b[0m \u001b[0mint\u001b[0m\u001b[0;34m(\u001b[0m\u001b[0mthresh\u001b[0m\u001b[0;34m*\u001b[0m\u001b[0mK\u001b[0m\u001b[0;34m)\u001b[0m\u001b[0;34m\u001b[0m\u001b[0m\n\u001b[1;32m     26\u001b[0m     \u001b[0mfixed\u001b[0m\u001b[0;34m=\u001b[0m \u001b[0mall\u001b[0m\u001b[0;34m(\u001b[0m\u001b[0mfix_bools\u001b[0m\u001b[0;34m)\u001b[0m\u001b[0;34m\u001b[0m\u001b[0m\n",
      "\u001b[0;32m<ipython-input-890-08456ae9fcf2>\u001b[0m in \u001b[0;36mupdate\u001b[0;34m(L, L_empty, P, K, n_allele, r, alpha, mu)\u001b[0m\n\u001b[1;32m      5\u001b[0m         \u001b[0mneighb\u001b[0m \u001b[0;34m=\u001b[0m \u001b[0mrand_neighbors\u001b[0m\u001b[0;34m(\u001b[0m\u001b[0mdemes\u001b[0m\u001b[0;34m)\u001b[0m\u001b[0;34m\u001b[0m\u001b[0m\n\u001b[1;32m      6\u001b[0m         \u001b[0mcells\u001b[0m \u001b[0;34m=\u001b[0m \u001b[0mnp\u001b[0m\u001b[0;34m.\u001b[0m\u001b[0marray\u001b[0m\u001b[0;34m(\u001b[0m\u001b[0mlist\u001b[0m\u001b[0;34m(\u001b[0m\u001b[0mmap\u001b[0m\u001b[0;34m(\u001b[0m\u001b[0mcounts_to_cells\u001b[0m\u001b[0;34m,\u001b[0m \u001b[0mL\u001b[0m\u001b[0;34m[\u001b[0m\u001b[0mneighb\u001b[0m\u001b[0;34m]\u001b[0m\u001b[0;34m,\u001b[0m\u001b[0;36m2\u001b[0m\u001b[0;34m*\u001b[0m\u001b[0;34m[\u001b[0m\u001b[0mn_allele\u001b[0m\u001b[0;34m]\u001b[0m \u001b[0;34m)\u001b[0m\u001b[0;34m)\u001b[0m\u001b[0;34m)\u001b[0m\u001b[0;34m\u001b[0m\u001b[0m\n\u001b[0;32m----> 7\u001b[0;31m         \u001b[0mcells\u001b[0m \u001b[0;34m=\u001b[0m \u001b[0mmigration\u001b[0m\u001b[0;34m(\u001b[0m\u001b[0mcells\u001b[0m\u001b[0;34m,\u001b[0m\u001b[0mK\u001b[0m\u001b[0;34m)\u001b[0m\u001b[0;34m\u001b[0m\u001b[0m\n\u001b[0m\u001b[1;32m      8\u001b[0m         \u001b[0mcounts\u001b[0m \u001b[0;34m=\u001b[0m  \u001b[0mnp\u001b[0m\u001b[0;34m.\u001b[0m\u001b[0marray\u001b[0m\u001b[0;34m(\u001b[0m\u001b[0mlist\u001b[0m\u001b[0;34m(\u001b[0m\u001b[0mmap\u001b[0m\u001b[0;34m(\u001b[0m\u001b[0mcells_to_counts\u001b[0m\u001b[0;34m,\u001b[0m \u001b[0mcells\u001b[0m\u001b[0;34m,\u001b[0m\u001b[0;36m2\u001b[0m\u001b[0;34m*\u001b[0m\u001b[0;34m[\u001b[0m\u001b[0mn_allele\u001b[0m\u001b[0;34m]\u001b[0m \u001b[0;34m)\u001b[0m\u001b[0;34m)\u001b[0m\u001b[0;34m)\u001b[0m\u001b[0;34m\u001b[0m\u001b[0m\n\u001b[1;32m      9\u001b[0m         \u001b[0mL\u001b[0m\u001b[0;34m[\u001b[0m\u001b[0mneighb\u001b[0m\u001b[0;34m]\u001b[0m \u001b[0;34m=\u001b[0m \u001b[0mcounts\u001b[0m\u001b[0;34m\u001b[0m\u001b[0m\n",
      "\u001b[0;32m<ipython-input-806-355532da6a13>\u001b[0m in \u001b[0;36mmigration\u001b[0;34m(cells, K)\u001b[0m\n\u001b[1;32m     23\u001b[0m     \u001b[0mcells_2\u001b[0m \u001b[0;34m=\u001b[0m \u001b[0mcells\u001b[0m\u001b[0;34m[\u001b[0m\u001b[0;36m1\u001b[0m\u001b[0;34m]\u001b[0m\u001b[0;34m\u001b[0m\u001b[0m\n\u001b[1;32m     24\u001b[0m     \u001b[0mpick_ind\u001b[0m\u001b[0;34m=\u001b[0m\u001b[0mchoice\u001b[0m\u001b[0;34m(\u001b[0m\u001b[0mnp\u001b[0m\u001b[0;34m.\u001b[0m\u001b[0marange\u001b[0m\u001b[0;34m(\u001b[0m\u001b[0mK\u001b[0m\u001b[0;34m)\u001b[0m\u001b[0;34m,\u001b[0m\u001b[0;36m2\u001b[0m\u001b[0;34m,\u001b[0m\u001b[0mreplace\u001b[0m\u001b[0;34m=\u001b[0m \u001b[0;32mTrue\u001b[0m\u001b[0;34m)\u001b[0m\u001b[0;34m\u001b[0m\u001b[0m\n\u001b[0;32m---> 25\u001b[0;31m     \u001b[0mpicks\u001b[0m \u001b[0;34m=\u001b[0m \u001b[0mnp\u001b[0m\u001b[0;34m.\u001b[0m\u001b[0marray\u001b[0m\u001b[0;34m(\u001b[0m\u001b[0;34m[\u001b[0m\u001b[0mnp\u001b[0m\u001b[0;34m.\u001b[0m\u001b[0marange\u001b[0m\u001b[0;34m(\u001b[0m\u001b[0mK\u001b[0m\u001b[0;34m)\u001b[0m \u001b[0;34m==\u001b[0m \u001b[0mpick_ind\u001b[0m\u001b[0;34m[\u001b[0m\u001b[0mi\u001b[0m\u001b[0;34m]\u001b[0m \u001b[0;32mfor\u001b[0m \u001b[0mi\u001b[0m \u001b[0;32min\u001b[0m \u001b[0;34m[\u001b[0m\u001b[0;36m0\u001b[0m\u001b[0;34m,\u001b[0m\u001b[0;36m1\u001b[0m\u001b[0;34m]\u001b[0m\u001b[0;34m]\u001b[0m\u001b[0;34m)\u001b[0m\u001b[0;34m\u001b[0m\u001b[0m\n\u001b[0m\u001b[1;32m     26\u001b[0m     \u001b[0mkeep\u001b[0m \u001b[0;34m=\u001b[0m  \u001b[0;34m~\u001b[0m\u001b[0mpicks\u001b[0m\u001b[0;34m\u001b[0m\u001b[0m\n\u001b[1;32m     27\u001b[0m     \u001b[0mcells_1\u001b[0m \u001b[0;34m=\u001b[0m \u001b[0mnp\u001b[0m\u001b[0;34m.\u001b[0m\u001b[0mappend\u001b[0m\u001b[0;34m(\u001b[0m\u001b[0mcells_1\u001b[0m\u001b[0;34m[\u001b[0m\u001b[0mkeep\u001b[0m\u001b[0;34m[\u001b[0m\u001b[0;36m0\u001b[0m\u001b[0;34m]\u001b[0m\u001b[0;34m]\u001b[0m\u001b[0;34m,\u001b[0m \u001b[0mcells_2\u001b[0m\u001b[0;34m[\u001b[0m\u001b[0mpicks\u001b[0m\u001b[0;34m[\u001b[0m\u001b[0;36m1\u001b[0m\u001b[0;34m]\u001b[0m\u001b[0;34m]\u001b[0m\u001b[0;34m)\u001b[0m\u001b[0;34m\u001b[0m\u001b[0m\n",
      "\u001b[0;32m<ipython-input-806-355532da6a13>\u001b[0m in \u001b[0;36m<listcomp>\u001b[0;34m(.0)\u001b[0m\n\u001b[1;32m     23\u001b[0m     \u001b[0mcells_2\u001b[0m \u001b[0;34m=\u001b[0m \u001b[0mcells\u001b[0m\u001b[0;34m[\u001b[0m\u001b[0;36m1\u001b[0m\u001b[0;34m]\u001b[0m\u001b[0;34m\u001b[0m\u001b[0m\n\u001b[1;32m     24\u001b[0m     \u001b[0mpick_ind\u001b[0m\u001b[0;34m=\u001b[0m\u001b[0mchoice\u001b[0m\u001b[0;34m(\u001b[0m\u001b[0mnp\u001b[0m\u001b[0;34m.\u001b[0m\u001b[0marange\u001b[0m\u001b[0;34m(\u001b[0m\u001b[0mK\u001b[0m\u001b[0;34m)\u001b[0m\u001b[0;34m,\u001b[0m\u001b[0;36m2\u001b[0m\u001b[0;34m,\u001b[0m\u001b[0mreplace\u001b[0m\u001b[0;34m=\u001b[0m \u001b[0;32mTrue\u001b[0m\u001b[0;34m)\u001b[0m\u001b[0;34m\u001b[0m\u001b[0m\n\u001b[0;32m---> 25\u001b[0;31m     \u001b[0mpicks\u001b[0m \u001b[0;34m=\u001b[0m \u001b[0mnp\u001b[0m\u001b[0;34m.\u001b[0m\u001b[0marray\u001b[0m\u001b[0;34m(\u001b[0m\u001b[0;34m[\u001b[0m\u001b[0mnp\u001b[0m\u001b[0;34m.\u001b[0m\u001b[0marange\u001b[0m\u001b[0;34m(\u001b[0m\u001b[0mK\u001b[0m\u001b[0;34m)\u001b[0m \u001b[0;34m==\u001b[0m \u001b[0mpick_ind\u001b[0m\u001b[0;34m[\u001b[0m\u001b[0mi\u001b[0m\u001b[0;34m]\u001b[0m \u001b[0;32mfor\u001b[0m \u001b[0mi\u001b[0m \u001b[0;32min\u001b[0m \u001b[0;34m[\u001b[0m\u001b[0;36m0\u001b[0m\u001b[0;34m,\u001b[0m\u001b[0;36m1\u001b[0m\u001b[0;34m]\u001b[0m\u001b[0;34m]\u001b[0m\u001b[0;34m)\u001b[0m\u001b[0;34m\u001b[0m\u001b[0m\n\u001b[0m\u001b[1;32m     26\u001b[0m     \u001b[0mkeep\u001b[0m \u001b[0;34m=\u001b[0m  \u001b[0;34m~\u001b[0m\u001b[0mpicks\u001b[0m\u001b[0;34m\u001b[0m\u001b[0m\n\u001b[1;32m     27\u001b[0m     \u001b[0mcells_1\u001b[0m \u001b[0;34m=\u001b[0m \u001b[0mnp\u001b[0m\u001b[0;34m.\u001b[0m\u001b[0mappend\u001b[0m\u001b[0;34m(\u001b[0m\u001b[0mcells_1\u001b[0m\u001b[0;34m[\u001b[0m\u001b[0mkeep\u001b[0m\u001b[0;34m[\u001b[0m\u001b[0;36m0\u001b[0m\u001b[0;34m]\u001b[0m\u001b[0;34m]\u001b[0m\u001b[0;34m,\u001b[0m \u001b[0mcells_2\u001b[0m\u001b[0;34m[\u001b[0m\u001b[0mpicks\u001b[0m\u001b[0;34m[\u001b[0m\u001b[0;36m1\u001b[0m\u001b[0;34m]\u001b[0m\u001b[0;34m]\u001b[0m\u001b[0;34m)\u001b[0m\u001b[0;34m\u001b[0m\u001b[0m\n",
      "\u001b[0;31mKeyboardInterrupt\u001b[0m: "
     ]
    }
   ],
   "source": [
    "K=100\n",
    "n_allele=2\n",
    "r=.1\n",
    "alpha=2\n",
    "mu=.001\n",
    "thresh=.2\n",
    "\n",
    "func_args = [K,n_allele,r,alpha,mu]\n",
    "##initialize probability matrix\n",
    "P = np.ones((n_allele+1,n_allele+1))\n",
    "P[0,1:] = 1-r*alpha**np.arange(n_allele)\n",
    "##initialize array\n",
    "L_empty= np.append([K],np.zeros(n_allele,dtype=int))\n",
    "L0 = np.zeros(n_allele+1,dtype=int)\n",
    "L0[1] = K\n",
    "L= np.append([L0],[L_empty],axis=0)\n",
    "\n",
    "\n",
    "#begin evolution\n",
    "fixed=False\n",
    "fixed_hist=[]\n",
    "t = 0\n",
    "while not fixed:\n",
    "    L = update(L,L_empty,P,*func_args)\n",
    "    fix_bools = L[:,1]< int(thresh*K)\n",
    "    est_bools = L[:,2]< int(1/(r*alpha))\n",
    "    fixed= all(fix_bools)\n",
    "    if any(fix_bools):\n",
    "        fixed_hist.append(fix_bools)\n",
    "    t+=1\n",
    "\n"
   ]
  },
  {
   "cell_type": "code",
   "execution_count": null,
   "metadata": {},
   "outputs": [],
   "source": []
  },
  {
   "cell_type": "code",
   "execution_count": 1207,
   "metadata": {},
   "outputs": [
    {
     "data": {
      "text/plain": [
       "array([ True,  True,  True,  True,  True,  True,  True,  True,  True,\n",
       "        True,  True,  True,  True,  True,  True,  True,  True,  True,\n",
       "        True,  True,  True,  True,  True,  True,  True,  True,  True,\n",
       "        True,  True,  True,  True,  True])"
      ]
     },
     "execution_count": 1207,
     "metadata": {},
     "output_type": "execute_result"
    }
   ],
   "source": [
    "fix[-1]"
   ]
  },
  {
   "cell_type": "code",
   "execution_count": null,
   "metadata": {},
   "outputs": [],
   "source": []
  }
 ],
 "metadata": {
  "kernelspec": {
   "display_name": "Python 3",
   "language": "python",
   "name": "python3"
  },
  "language_info": {
   "codemirror_mode": {
    "name": "ipython",
    "version": 3
   },
   "file_extension": ".py",
   "mimetype": "text/x-python",
   "name": "python",
   "nbconvert_exporter": "python",
   "pygments_lexer": "ipython3",
   "version": "3.7.0"
  }
 },
 "nbformat": 4,
 "nbformat_minor": 2
}
